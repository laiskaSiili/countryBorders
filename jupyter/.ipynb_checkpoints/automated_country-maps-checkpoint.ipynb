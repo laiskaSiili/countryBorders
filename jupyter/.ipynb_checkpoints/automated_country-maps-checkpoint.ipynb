{
 "cells": [
  {
   "cell_type": "markdown",
   "metadata": {},
   "source": [
    "# Country visualization test"
   ]
  },
  {
   "cell_type": "markdown",
   "metadata": {},
   "source": [
    "## Summary\n",
    "This notebook is a prototype to visualize countries shapes as polygons and to overlay them with point data. The dummy point data in this case is the Naturalearth dataset for populated places. Many countries prove problematic for visualization, because they consist of several parts, sometimes far apart (e.g. overseas territories). In this notebook, an algorithm of distance based grouping is implemented, which allows to create a main plot of the countries most prominent polygons followed by several subplots with grouped area."
   ]
  },
  {
   "cell_type": "markdown",
   "metadata": {},
   "source": [
    "#### Installation\n",
    "1. Create virtual environment from requirements.txt\n",
    "2. Add kernel to jupyter notebook using *ipython kernel install --user --name=YOUR_VIRTUAL_ENV_NAME*"
   ]
  },
  {
   "cell_type": "code",
   "execution_count": null,
   "metadata": {},
   "outputs": [],
   "source": [
    "# Hidden depedency of geopandas: descartes\n",
    "import geopandas as gpd\n",
    "import matplotlib.pyplot as plt"
   ]
  },
  {
   "cell_type": "code",
   "execution_count": null,
   "metadata": {},
   "outputs": [],
   "source": [
    "country_name = 'France'"
   ]
  },
  {
   "cell_type": "markdown",
   "metadata": {},
   "source": [
    "## Preprocess Datasets\n",
    "Datasets are from [naturalearthdata](https://www.naturalearthdata.com/downloads/10m-cultural-vectors/) with public license, meaning they are free to use for everybody. For countries the dataset **Admin 0 – Countries** is used, for the populated places, the dataset **Populated Places** is used."
   ]
  },
  {
   "cell_type": "code",
   "execution_count": null,
   "metadata": {},
   "outputs": [],
   "source": [
    "# Read countries and populated places from shapefile\n",
    "all_countries = gpd.read_file('data/ne_50m_admin_0_countries/ne_50m_admin_0_countries.shp')\n",
    "pop_places = gpd.read_file('data/ne_10m_populated_places/ne_10m_populated_places.shp')"
   ]
  },
  {
   "cell_type": "code",
   "execution_count": null,
   "metadata": {},
   "outputs": [],
   "source": [
    "# Select country and project to pseudo mercator\n",
    "country_4326 = all_countries[all_countries['ADMIN'] == country_name].copy()\n",
    "country_3857 = country_4326.to_crs(epsg=3857)"
   ]
  },
  {
   "cell_type": "code",
   "execution_count": null,
   "metadata": {},
   "outputs": [],
   "source": [
    "# Select populated places within country_name and project to pseudo mercator\n",
    "data_4326 = pop_places[(pop_places['ADM0NAME']==country_name)].sort_values(by=['POP_MAX'], ascending=False)\n",
    "data_3857 = data_4326.to_crs(epsg=3857)"
   ]
  },
  {
   "cell_type": "markdown",
   "metadata": {},
   "source": [
    "## Algorithm\n",
    "### Goal\n",
    "Given a country and a georeferenced point dataset (ordered by some column X, i.e. hazard risk), plot overlay points with country."
   ]
  },
  {
   "cell_type": "markdown",
   "metadata": {},
   "source": [
    "### Challenge\n",
    "Many countries consist of a large main polygon (called primary hereafter) as well as multiple other polygons of various sizes (called secondaries hereafter), which can be \n",
    "- ... very close to the primary with an example being China. In this case we want to plot them all together in the main plot.\n",
    "- ... far away from the primary with an exampl being France or Portugal with their oversea territories. In this case we might want to create subplot displaying them not according to their true distance and size.\n",
    "- ... a combination of both above."
   ]
  },
  {
   "cell_type": "markdown",
   "metadata": {},
   "source": [
    "### Idea\n",
    "- We can use spatial operations like buffering and bounding boxes to find secondaries close enough to primaries to be displayed in the main plot. This process can be repeated to create groups of distance related polygon groups.\n",
    "- In a next step, only groups containing point data are of interest.\n",
    "- If the number of secondaries from step 2 is large, the ones with the highest column value X should be given priority. (Not implemented here)"
   ]
  },
  {
   "cell_type": "markdown",
   "metadata": {},
   "source": [
    "### Pseudo Algorithm\n",
    "Start with GeoDataFrame containing a Multipolygon, then do:\n",
    "0. Create a new GeoDataFrame with one row for each polygon. Geometry type is POLYGON.\n",
    "1. Get primary.\n",
    "2. Create a buffer around primary.\n",
    "3. Select all secondaries within buffer and dissolve to new primary.\n",
    "4. Select all remaining secondaries.\n",
    "5. Go back to step 1 using the remaining secondaries. Repeat until no secondaries remain.\n",
    "6. Find which polygons contain point data. Create geoseries for plotting.\n",
    "7. Initialize plots."
   ]
  },
  {
   "cell_type": "markdown",
   "metadata": {},
   "source": [
    "## Algorithm Implementation"
   ]
  },
  {
   "cell_type": "code",
   "execution_count": null,
   "metadata": {},
   "outputs": [],
   "source": [
    "# Parameter\n",
    "dissolve_buffer_m = 500000\n",
    "# 0. Split Multipolygon into single Polygons.\n",
    "country_gdf = gpd.GeoDataFrame({'geometry': list(*country_3857.geometry)}, crs=country_3857.crs)\n",
    "\n",
    "remaining_gdf = country_gdf.copy()\n",
    "# Store actual geometries in geometry_groups\n",
    "geometry_groups = []\n",
    "# Use geoseries for plotting\n",
    "geoseries = []\n",
    "while remaining_gdf.shape[0] > 0:\n",
    "    # 1. Get primary\n",
    "    primary = remaining_gdf[remaining_gdf.area == remaining_gdf.area.max()]\n",
    "    # 2. Create a buffer around primary.\n",
    "    primary_buffered_bbox = primary.buffer(distance=dissolve_buffer_m).envelope.iloc[0]\n",
    "    # 3. Select all secondaries within buffer and dissolve to new primary.\n",
    "    within_primary_bool = country_gdf.centroid.within(primary_buffered_bbox)\n",
    "    new_primary = remaining_gdf.loc[within_primary_bool].unary_union\n",
    "    geometry_groups.append(new_primary)\n",
    "    geoseries.append(gpd.GeoSeries(new_primary))\n",
    "    # 4. Select all remaining secondaries containing a data.\n",
    "    remaining_gdf = remaining_gdf.loc[within_primary_bool == False]\n",
    "    dissolve_buffer_m = dissolve_buffer_m / 2\n",
    "    # 5. Go back to step 1 using the remaining secondaries. Repeat until no secondaries remain."
   ]
  },
  {
   "cell_type": "code",
   "execution_count": null,
   "metadata": {
    "scrolled": false
   },
   "outputs": [],
   "source": [
    "# Show all grouped polygons\n",
    "for geoserie in geoseries:\n",
    "    geoserie.plot()"
   ]
  },
  {
   "cell_type": "code",
   "execution_count": null,
   "metadata": {},
   "outputs": [],
   "source": [
    "# 6. Find which polygons contain point data. Create geoseries for plotting.\n",
    "geometry_geoseries = []\n",
    "data = []\n",
    "for geom in geometry_groups:\n",
    "    data_within_geom = data_3857.geometry.within(geom)\n",
    "    if sum(data_within_geom) > 0:\n",
    "        data.append(data_3857[data_within_geom])\n",
    "        geometry_geoseries.append(gpd.GeoSeries(geom))\n",
    "country_primary, country_secondaries = geometry_geoseries[0], geometry_geoseries[1:]\n",
    "data_primary, data_secondaries = data[0], data[1:]"
   ]
  },
  {
   "cell_type": "code",
   "execution_count": null,
   "metadata": {},
   "outputs": [],
   "source": [
    "# 7. Initialize plot.\n",
    "\n",
    "# This number defines the ratio of the primary plots width to the secondary plot widths\n",
    "ratio_primary_secondaries = 2\n",
    "# Figure dimensions\n",
    "fig = plt.figure(figsize=(12, 8))\n",
    "\n",
    "# If secondaries exist:\n",
    "if country_secondaries:\n",
    "    import math\n",
    "    n_rows = math.ceil(math.sqrt(len(country_secondaries)))\n",
    "    n_cols = math.ceil(len(country_secondaries) / n_rows)\n",
    "\n",
    "    # Plot primary\n",
    "    ax = plt.subplot2grid((n_rows, (ratio_primary_secondaries+1)*n_cols), (0, n_cols), colspan=ratio_primary_secondaries*n_cols, rowspan=n_rows)\n",
    "    ax.set_title('')\n",
    "    country_primary.plot(ax=ax, facecolor='lightgray', edgecolor='gray')\n",
    "    data_primary.plot(ax=ax, facecolor='red', markersize=20)\n",
    "    ax.set_axis_off()\n",
    "    plt.margins(0.1)\n",
    "    plt.axis('equal');\n",
    "\n",
    "    # Plot secondaries\n",
    "    for i in range(len(country_secondaries)):\n",
    "        col = math.floor(i/n_cols)\n",
    "        row = i%n_rows\n",
    "        ax = plt.subplot2grid((n_rows, (ratio_primary_secondaries+1)*n_rows), (row, col), colspan=1, rowspan=1)\n",
    "        country_secondaries[i].plot(ax=ax, facecolor='lightgray', edgecolor='gray')\n",
    "        data_secondaries[i].plot(ax=ax, facecolor='red', markersize=9)\n",
    "        plt.margins(0.5)\n",
    "        plt.axis('equal');\n",
    "        ax.set_axis_off()\n",
    "    plt.tight_layout()\n",
    "else:\n",
    "    ax = fig.add_subplot(111)\n",
    "    country_primary.plot(ax=ax, facecolor='lightgray', edgecolor='gray')\n",
    "    data_primary.plot(ax=ax, facecolor='red', markersize=20)\n",
    "    ax.set_axis_off()\n",
    "    plt.axis('equal');"
   ]
  },
  {
   "cell_type": "code",
   "execution_count": null,
   "metadata": {},
   "outputs": [],
   "source": []
  },
  {
   "cell_type": "code",
   "execution_count": null,
   "metadata": {},
   "outputs": [],
   "source": []
  }
 ],
 "metadata": {
  "kernelspec": {
   "display_name": "country",
   "language": "python",
   "name": "country"
  },
  "language_info": {
   "codemirror_mode": {
    "name": "ipython",
    "version": 3
   },
   "file_extension": ".py",
   "mimetype": "text/x-python",
   "name": "python",
   "nbconvert_exporter": "python",
   "pygments_lexer": "ipython3",
   "version": "3.7.3"
  }
 },
 "nbformat": 4,
 "nbformat_minor": 2
}
