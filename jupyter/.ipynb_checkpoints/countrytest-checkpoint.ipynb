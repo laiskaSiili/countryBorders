{
 "cells": [
  {
   "cell_type": "markdown",
   "metadata": {},
   "source": [
    "# Country visualization test\n",
    "\n",
    "### Installation\n",
    "1. Create virtual environment from requirements.txt\n",
    "2. Add kernel to jupyter notebook using *ipython kernel install --user --name=YOUR_VIRTUAL_ENV_NAME*"
   ]
  },
  {
   "cell_type": "code",
   "execution_count": 1,
   "metadata": {},
   "outputs": [],
   "source": [
    "# Hidden depedency of geopandas: descartes\n",
    "import geopandas as gpd\n",
    "import matplotlib.pyplot as plt"
   ]
  },
  {
   "cell_type": "markdown",
   "metadata": {},
   "source": [
    "## Datasets\n",
    "Datasets are from [naturalearthdata](https://www.naturalearthdata.com/downloads/10m-cultural-vectors/) with public license, meaning they are free to use for everybody. For countries the dataset **Admin 0 – Countries** is used, for the populated places, the dtaaset **Populated Places** is used."
   ]
  },
  {
   "cell_type": "code",
   "execution_count": 2,
   "metadata": {},
   "outputs": [
    {
     "name": "stdout",
     "output_type": "stream",
     "text": [
      "Data CRS is epsg:4326\n"
     ]
    },
    {
     "data": {
      "text/html": [
       "<div>\n",
       "<style scoped>\n",
       "    .dataframe tbody tr th:only-of-type {\n",
       "        vertical-align: middle;\n",
       "    }\n",
       "\n",
       "    .dataframe tbody tr th {\n",
       "        vertical-align: top;\n",
       "    }\n",
       "\n",
       "    .dataframe thead th {\n",
       "        text-align: right;\n",
       "    }\n",
       "</style>\n",
       "<table border=\"1\" class=\"dataframe\">\n",
       "  <thead>\n",
       "    <tr style=\"text-align: right;\">\n",
       "      <th></th>\n",
       "      <th>featurecla</th>\n",
       "      <th>scalerank</th>\n",
       "      <th>LABELRANK</th>\n",
       "      <th>SOVEREIGNT</th>\n",
       "      <th>SOV_A3</th>\n",
       "      <th>ADM0_DIF</th>\n",
       "      <th>LEVEL</th>\n",
       "      <th>TYPE</th>\n",
       "      <th>ADMIN</th>\n",
       "      <th>ADM0_A3</th>\n",
       "      <th>...</th>\n",
       "      <th>NAME_KO</th>\n",
       "      <th>NAME_NL</th>\n",
       "      <th>NAME_PL</th>\n",
       "      <th>NAME_PT</th>\n",
       "      <th>NAME_RU</th>\n",
       "      <th>NAME_SV</th>\n",
       "      <th>NAME_TR</th>\n",
       "      <th>NAME_VI</th>\n",
       "      <th>NAME_ZH</th>\n",
       "      <th>geometry</th>\n",
       "    </tr>\n",
       "  </thead>\n",
       "  <tbody>\n",
       "    <tr>\n",
       "      <th>0</th>\n",
       "      <td>Admin-0 country</td>\n",
       "      <td>1</td>\n",
       "      <td>3</td>\n",
       "      <td>Zimbabwe</td>\n",
       "      <td>ZWE</td>\n",
       "      <td>0</td>\n",
       "      <td>2</td>\n",
       "      <td>Sovereign country</td>\n",
       "      <td>Zimbabwe</td>\n",
       "      <td>ZWE</td>\n",
       "      <td>...</td>\n",
       "      <td>짐바브웨</td>\n",
       "      <td>Zimbabwe</td>\n",
       "      <td>Zimbabwe</td>\n",
       "      <td>Zimbábue</td>\n",
       "      <td>Зимбабве</td>\n",
       "      <td>Zimbabwe</td>\n",
       "      <td>Zimbabve</td>\n",
       "      <td>Zimbabwe</td>\n",
       "      <td>辛巴威</td>\n",
       "      <td>POLYGON ((31.28789062500002 -22.40205078125001...</td>\n",
       "    </tr>\n",
       "    <tr>\n",
       "      <th>1</th>\n",
       "      <td>Admin-0 country</td>\n",
       "      <td>1</td>\n",
       "      <td>3</td>\n",
       "      <td>Zambia</td>\n",
       "      <td>ZMB</td>\n",
       "      <td>0</td>\n",
       "      <td>2</td>\n",
       "      <td>Sovereign country</td>\n",
       "      <td>Zambia</td>\n",
       "      <td>ZMB</td>\n",
       "      <td>...</td>\n",
       "      <td>잠비아</td>\n",
       "      <td>Zambia</td>\n",
       "      <td>Zambia</td>\n",
       "      <td>Zâmbia</td>\n",
       "      <td>Замбия</td>\n",
       "      <td>Zambia</td>\n",
       "      <td>Zambiya</td>\n",
       "      <td>Zambia</td>\n",
       "      <td>赞比亚</td>\n",
       "      <td>POLYGON ((30.39609375000001 -15.64306640625, 3...</td>\n",
       "    </tr>\n",
       "    <tr>\n",
       "      <th>2</th>\n",
       "      <td>Admin-0 country</td>\n",
       "      <td>1</td>\n",
       "      <td>3</td>\n",
       "      <td>Yemen</td>\n",
       "      <td>YEM</td>\n",
       "      <td>0</td>\n",
       "      <td>2</td>\n",
       "      <td>Sovereign country</td>\n",
       "      <td>Yemen</td>\n",
       "      <td>YEM</td>\n",
       "      <td>...</td>\n",
       "      <td>예멘</td>\n",
       "      <td>Jemen</td>\n",
       "      <td>Jemen</td>\n",
       "      <td>Iémen</td>\n",
       "      <td>Йемен</td>\n",
       "      <td>Jemen</td>\n",
       "      <td>Yemen</td>\n",
       "      <td>Yemen</td>\n",
       "      <td>也门</td>\n",
       "      <td>(POLYGON ((53.08564453125001 16.648388671875, ...</td>\n",
       "    </tr>\n",
       "    <tr>\n",
       "      <th>3</th>\n",
       "      <td>Admin-0 country</td>\n",
       "      <td>3</td>\n",
       "      <td>2</td>\n",
       "      <td>Vietnam</td>\n",
       "      <td>VNM</td>\n",
       "      <td>0</td>\n",
       "      <td>2</td>\n",
       "      <td>Sovereign country</td>\n",
       "      <td>Vietnam</td>\n",
       "      <td>VNM</td>\n",
       "      <td>...</td>\n",
       "      <td>베트남</td>\n",
       "      <td>Vietnam</td>\n",
       "      <td>Wietnam</td>\n",
       "      <td>Vietname</td>\n",
       "      <td>Вьетнам</td>\n",
       "      <td>Vietnam</td>\n",
       "      <td>Vietnam</td>\n",
       "      <td>Việt Nam</td>\n",
       "      <td>越南</td>\n",
       "      <td>(POLYGON ((104.06396484375 10.3908203125, 104....</td>\n",
       "    </tr>\n",
       "  </tbody>\n",
       "</table>\n",
       "<p>4 rows × 95 columns</p>\n",
       "</div>"
      ],
      "text/plain": [
       "        featurecla  scalerank  LABELRANK SOVEREIGNT SOV_A3  ADM0_DIF  LEVEL  \\\n",
       "0  Admin-0 country          1          3   Zimbabwe    ZWE         0      2   \n",
       "1  Admin-0 country          1          3     Zambia    ZMB         0      2   \n",
       "2  Admin-0 country          1          3      Yemen    YEM         0      2   \n",
       "3  Admin-0 country          3          2    Vietnam    VNM         0      2   \n",
       "\n",
       "                TYPE     ADMIN ADM0_A3  ...  NAME_KO   NAME_NL   NAME_PL  \\\n",
       "0  Sovereign country  Zimbabwe     ZWE  ...     짐바브웨  Zimbabwe  Zimbabwe   \n",
       "1  Sovereign country    Zambia     ZMB  ...      잠비아    Zambia    Zambia   \n",
       "2  Sovereign country     Yemen     YEM  ...       예멘     Jemen     Jemen   \n",
       "3  Sovereign country   Vietnam     VNM  ...      베트남   Vietnam   Wietnam   \n",
       "\n",
       "    NAME_PT   NAME_RU   NAME_SV   NAME_TR   NAME_VI NAME_ZH  \\\n",
       "0  Zimbábue  Зимбабве  Zimbabwe  Zimbabve  Zimbabwe     辛巴威   \n",
       "1    Zâmbia    Замбия    Zambia   Zambiya    Zambia     赞比亚   \n",
       "2     Iémen     Йемен     Jemen     Yemen     Yemen      也门   \n",
       "3  Vietname   Вьетнам   Vietnam   Vietnam  Việt Nam      越南   \n",
       "\n",
       "                                            geometry  \n",
       "0  POLYGON ((31.28789062500002 -22.40205078125001...  \n",
       "1  POLYGON ((30.39609375000001 -15.64306640625, 3...  \n",
       "2  (POLYGON ((53.08564453125001 16.648388671875, ...  \n",
       "3  (POLYGON ((104.06396484375 10.3908203125, 104....  \n",
       "\n",
       "[4 rows x 95 columns]"
      ]
     },
     "execution_count": 2,
     "metadata": {},
     "output_type": "execute_result"
    },
    {
     "data": {
      "image/png": "[encoded data removed]",
      "text/plain": [
       "<Figure size 432x288 with 1 Axes>"
      ]
     },
     "metadata": {
      "needs_background": "light"
     },
     "output_type": "display_data"
    }
   ],
   "source": [
    "# read countries from shapefile and plot the all\n",
    "all_countries = gpd.read_file('data/ne_50m_admin_0_countries/ne_50m_admin_0_countries.shp')\n",
    "print(f'Data CRS is {all_countries.crs[\"init\"]}')\n",
    "all_countries.plot()\n",
    "all_countries.head(4)"
   ]
  },
  {
   "cell_type": "markdown",
   "metadata": {},
   "source": [
    "## Country visualization\n",
    "The following visualizations show the country selected in the variable *country_name* below. To see all available countries, check the ADMIN column of the *all_countries* dataframe."
   ]
  },
  {
   "cell_type": "code",
   "execution_count": 129,
   "metadata": {},
   "outputs": [],
   "source": [
    "country_name = 'Switzerland'\n",
    "show_largest_area_only = False"
   ]
  },
  {
   "cell_type": "code",
   "execution_count": 130,
   "metadata": {
    "scrolled": false
   },
   "outputs": [],
   "source": [
    "# Extract country from dataset and replace geometry column \n",
    "# with largest polygon only if show_largest_area_only is set.\n",
    "country_4326 = all_countries[all_countries['ADMIN'] == country_name].copy()\n",
    "if show_largest_area_only:\n",
    "    try:\n",
    "        max_area = 0\n",
    "        for multipoly in country_4326.geometry:\n",
    "            for poly in multipoly:\n",
    "                if poly.area > max_area:\n",
    "                    largest_poly = poly\n",
    "                    max_area = poly.area\n",
    "        country_4326['geometry'] = largest_poly\n",
    "    except TypeError:\n",
    "        pass"
   ]
  },
  {
   "cell_type": "code",
   "execution_count": 131,
   "metadata": {
    "scrolled": true
   },
   "outputs": [
    {
     "data": {
      "text/plain": [
       "<matplotlib.axes._subplots.AxesSubplot at 0x7fe2f839f278>"
      ]
     },
     "execution_count": 131,
     "metadata": {},
     "output_type": "execute_result"
    },
    {
     "data": {
      "image/png": "[encoded data removed]",
      "text/plain": [
       "<Figure size 432x288 with 1 Axes>"
      ]
     },
     "metadata": {
      "needs_background": "light"
     },
     "output_type": "display_data"
    }
   ],
   "source": [
    "# default plot\n",
    "country_4326.plot()"
   ]
  },
  {
   "cell_type": "code",
   "execution_count": 119,
   "metadata": {},
   "outputs": [
    {
     "data": {
      "text/plain": [
       "<matplotlib.axes._subplots.AxesSubplot at 0x7fe2f8405358>"
      ]
     },
     "execution_count": 119,
     "metadata": {},
     "output_type": "execute_result"
    },
    {
     "data": {
      "image/png": "[encoded data removed]",
      "text/plain": [
       "<Figure size 432x288 with 1 Axes>"
      ]
     },
     "metadata": {
      "needs_background": "light"
     },
     "output_type": "display_data"
    }
   ],
   "source": [
    "# Plot with custom styles\n",
    "fig, ax = plt.subplots()\n",
    "plt.axis('off')\n",
    "country_4326.plot(ax=ax, color='grey', edgecolor='black')"
   ]
  },
  {
   "cell_type": "code",
   "execution_count": 120,
   "metadata": {},
   "outputs": [
    {
     "data": {
      "text/plain": [
       "<matplotlib.axes._subplots.AxesSubplot at 0x7fe2f8405358>"
      ]
     },
     "execution_count": 120,
     "metadata": {},
     "output_type": "execute_result"
    },
    {
     "data": {
      "text/plain": [
       "<Figure size 432x288 with 0 Axes>"
      ]
     },
     "metadata": {},
     "output_type": "display_data"
    }
   ],
   "source": [
    "# Reproject data into pseudomercator (3857)\n",
    "country_3857 = country_4326.to_crs(epsg=3857)\n",
    "ax.set_axis_off()\n",
    "country_3857.plot(ax=ax, color='grey', edgecolor='black')"
   ]
  },
  {
   "cell_type": "markdown",
   "metadata": {},
   "source": [
    "## Point overlay\n",
    "The dataset **Populated places** contains a wealth of information about the most populated places worldwide. The dataset also consists of a geometry column holding a point feature for each place. In the following, the data is aggregated to show the top 5 most populated places for the selected country."
   ]
  },
  {
   "cell_type": "code",
   "execution_count": 121,
   "metadata": {},
   "outputs": [
    {
     "data": {
      "text/html": [
       "<div>\n",
       "<style scoped>\n",
       "    .dataframe tbody tr th:only-of-type {\n",
       "        vertical-align: middle;\n",
       "    }\n",
       "\n",
       "    .dataframe tbody tr th {\n",
       "        vertical-align: top;\n",
       "    }\n",
       "\n",
       "    .dataframe thead th {\n",
       "        text-align: right;\n",
       "    }\n",
       "</style>\n",
       "<table border=\"1\" class=\"dataframe\">\n",
       "  <thead>\n",
       "    <tr style=\"text-align: right;\">\n",
       "      <th></th>\n",
       "      <th>SCALERANK</th>\n",
       "      <th>NATSCALE</th>\n",
       "      <th>LABELRANK</th>\n",
       "      <th>FEATURECLA</th>\n",
       "      <th>NAME</th>\n",
       "      <th>NAMEPAR</th>\n",
       "      <th>NAMEALT</th>\n",
       "      <th>DIFFASCII</th>\n",
       "      <th>NAMEASCII</th>\n",
       "      <th>ADM0CAP</th>\n",
       "      <th>...</th>\n",
       "      <th>name_ja</th>\n",
       "      <th>name_ko</th>\n",
       "      <th>name_nl</th>\n",
       "      <th>name_pl</th>\n",
       "      <th>name_sv</th>\n",
       "      <th>name_tr</th>\n",
       "      <th>name_vi</th>\n",
       "      <th>wdid_score</th>\n",
       "      <th>ne_id</th>\n",
       "      <th>geometry</th>\n",
       "    </tr>\n",
       "  </thead>\n",
       "  <tbody>\n",
       "    <tr>\n",
       "      <th>7130</th>\n",
       "      <td>2</td>\n",
       "      <td>200</td>\n",
       "      <td>6</td>\n",
       "      <td>Admin-0 capital</td>\n",
       "      <td>Lisbon</td>\n",
       "      <td>Lisboa</td>\n",
       "      <td>None</td>\n",
       "      <td>0</td>\n",
       "      <td>Lisbon</td>\n",
       "      <td>1.0</td>\n",
       "      <td>...</td>\n",
       "      <td>リスボン</td>\n",
       "      <td>리스본</td>\n",
       "      <td>Lissabon</td>\n",
       "      <td>Lizbona</td>\n",
       "      <td>Lissabon</td>\n",
       "      <td>Lizbon</td>\n",
       "      <td>Lisboa</td>\n",
       "      <td>4</td>\n",
       "      <td>1159151273</td>\n",
       "      <td>POINT (-1018218.47248957 4682309.117462361)</td>\n",
       "    </tr>\n",
       "    <tr>\n",
       "      <th>4977</th>\n",
       "      <td>6</td>\n",
       "      <td>30</td>\n",
       "      <td>6</td>\n",
       "      <td>Admin-1 capital</td>\n",
       "      <td>Porto</td>\n",
       "      <td>None</td>\n",
       "      <td>None</td>\n",
       "      <td>0</td>\n",
       "      <td>Porto</td>\n",
       "      <td>0.0</td>\n",
       "      <td>...</td>\n",
       "      <td>ポルト</td>\n",
       "      <td>포르투</td>\n",
       "      <td>Porto</td>\n",
       "      <td>Porto</td>\n",
       "      <td>Porto</td>\n",
       "      <td>Porto</td>\n",
       "      <td>Porto</td>\n",
       "      <td>4</td>\n",
       "      <td>1159146429</td>\n",
       "      <td>POINT (-959790.7632069308 5034780.477995695)</td>\n",
       "    </tr>\n",
       "    <tr>\n",
       "      <th>971</th>\n",
       "      <td>8</td>\n",
       "      <td>10</td>\n",
       "      <td>6</td>\n",
       "      <td>Admin-1 capital</td>\n",
       "      <td>Braga</td>\n",
       "      <td>None</td>\n",
       "      <td>None</td>\n",
       "      <td>0</td>\n",
       "      <td>Braga</td>\n",
       "      <td>0.0</td>\n",
       "      <td>...</td>\n",
       "      <td>ブラガ</td>\n",
       "      <td>브라가</td>\n",
       "      <td>Braga</td>\n",
       "      <td>Braga</td>\n",
       "      <td>Braga</td>\n",
       "      <td>Braga</td>\n",
       "      <td>Braga</td>\n",
       "      <td>4</td>\n",
       "      <td>1159128157</td>\n",
       "      <td>POINT (-937458.3030890323 5094551.121274414)</td>\n",
       "    </tr>\n",
       "    <tr>\n",
       "      <th>5651</th>\n",
       "      <td>6</td>\n",
       "      <td>30</td>\n",
       "      <td>6</td>\n",
       "      <td>Admin-0 region capital</td>\n",
       "      <td>Funchal</td>\n",
       "      <td>None</td>\n",
       "      <td>None</td>\n",
       "      <td>0</td>\n",
       "      <td>Funchal</td>\n",
       "      <td>0.0</td>\n",
       "      <td>...</td>\n",
       "      <td>フンシャル</td>\n",
       "      <td>푼샬</td>\n",
       "      <td>Funchal</td>\n",
       "      <td>Funchal</td>\n",
       "      <td>Funchal</td>\n",
       "      <td>Funchal</td>\n",
       "      <td>Funchal</td>\n",
       "      <td>4</td>\n",
       "      <td>1159147945</td>\n",
       "      <td>POINT (-1879077.425646681 3848936.622977535)</td>\n",
       "    </tr>\n",
       "    <tr>\n",
       "      <th>4976</th>\n",
       "      <td>6</td>\n",
       "      <td>30</td>\n",
       "      <td>6</td>\n",
       "      <td>Admin-1 capital</td>\n",
       "      <td>Setúbal</td>\n",
       "      <td>None</td>\n",
       "      <td>None</td>\n",
       "      <td>0</td>\n",
       "      <td>Setubal</td>\n",
       "      <td>0.0</td>\n",
       "      <td>...</td>\n",
       "      <td>セトゥーバル</td>\n",
       "      <td>세투발</td>\n",
       "      <td>Setúbal</td>\n",
       "      <td>Setúbal</td>\n",
       "      <td>Setúbal</td>\n",
       "      <td>Setúbal</td>\n",
       "      <td>Setúbal</td>\n",
       "      <td>4</td>\n",
       "      <td>1159146427</td>\n",
       "      <td>POINT (-990744.582503578 4654564.217367106)</td>\n",
       "    </tr>\n",
       "  </tbody>\n",
       "</table>\n",
       "<p>5 rows × 120 columns</p>\n",
       "</div>"
      ],
      "text/plain": [
       "      SCALERANK  NATSCALE  LABELRANK              FEATURECLA     NAME NAMEPAR  \\\n",
       "7130          2       200          6         Admin-0 capital   Lisbon  Lisboa   \n",
       "4977          6        30          6         Admin-1 capital    Porto    None   \n",
       "971           8        10          6         Admin-1 capital    Braga    None   \n",
       "5651          6        30          6  Admin-0 region capital  Funchal    None   \n",
       "4976          6        30          6         Admin-1 capital  Setúbal    None   \n",
       "\n",
       "     NAMEALT  DIFFASCII NAMEASCII  ADM0CAP  ... name_ja  name_ko   name_nl  \\\n",
       "7130    None          0    Lisbon      1.0  ...    リスボン      리스본  Lissabon   \n",
       "4977    None          0     Porto      0.0  ...     ポルト      포르투     Porto   \n",
       "971     None          0     Braga      0.0  ...     ブラガ      브라가     Braga   \n",
       "5651    None          0   Funchal      0.0  ...   フンシャル       푼샬   Funchal   \n",
       "4976    None          0   Setubal      0.0  ...  セトゥーバル      세투발   Setúbal   \n",
       "\n",
       "      name_pl   name_sv  name_tr  name_vi wdid_score       ne_id  \\\n",
       "7130  Lizbona  Lissabon   Lizbon   Lisboa          4  1159151273   \n",
       "4977    Porto     Porto    Porto    Porto          4  1159146429   \n",
       "971     Braga     Braga    Braga    Braga          4  1159128157   \n",
       "5651  Funchal   Funchal  Funchal  Funchal          4  1159147945   \n",
       "4976  Setúbal   Setúbal  Setúbal  Setúbal          4  1159146427   \n",
       "\n",
       "                                          geometry  \n",
       "7130   POINT (-1018218.47248957 4682309.117462361)  \n",
       "4977  POINT (-959790.7632069308 5034780.477995695)  \n",
       "971   POINT (-937458.3030890323 5094551.121274414)  \n",
       "5651  POINT (-1879077.425646681 3848936.622977535)  \n",
       "4976   POINT (-990744.582503578 4654564.217367106)  \n",
       "\n",
       "[5 rows x 120 columns]"
      ]
     },
     "execution_count": 121,
     "metadata": {},
     "output_type": "execute_result"
    }
   ],
   "source": [
    "# Data preparation: Select the 5 most populated places within country_name.\n",
    "pop_places = gpd.read_file('data/ne_10m_populated_places/ne_10m_populated_places.shp')\n",
    "country_megacities_top5_4326 = pop_places[(pop_places['ADM0NAME']==country_name)].sort_values(by=['POP_MAX'], ascending=False).head(5)\n",
    "country_megacities_top5_3857 = country_megacities_top5_4326.to_crs(epsg=3857)\n",
    "country_megacities_top5_3857"
   ]
  },
  {
   "cell_type": "code",
   "execution_count": 122,
   "metadata": {},
   "outputs": [
    {
     "data": {
      "text/plain": [
       "<matplotlib.axes._subplots.AxesSubplot at 0x7fe2fc3e80f0>"
      ]
     },
     "execution_count": 122,
     "metadata": {},
     "output_type": "execute_result"
    },
    {
     "data": {
      "image/png": "[encoded data removed]",
      "text/plain": [
       "<Figure size 432x288 with 1 Axes>"
      ]
     },
     "metadata": {
      "needs_background": "light"
     },
     "output_type": "display_data"
    }
   ],
   "source": [
    "# Overlay with static attributes\n",
    "fig, ax = plt.subplots()\n",
    "ax.set_axis_off()\n",
    "country_3857.plot(ax=ax, color='grey', edgecolor='black')\n",
    "country_megacities_top5_3857.plot(ax=ax, marker='o', color='red', markersize=50)"
   ]
  },
  {
   "cell_type": "code",
   "execution_count": 123,
   "metadata": {},
   "outputs": [
    {
     "data": {
      "text/plain": [
       "<matplotlib.collections.PathCollection at 0x7fe2fc0c1b38>"
      ]
     },
     "execution_count": 123,
     "metadata": {},
     "output_type": "execute_result"
    },
    {
     "data": {
      "image/png": "[encoded data removed]",
      "text/plain": [
       "<Figure size 432x288 with 1 Axes>"
      ]
     },
     "metadata": {
      "needs_background": "light"
     },
     "output_type": "display_data"
    }
   ],
   "source": [
    "# Overlay with different colors based on a simple list, whereby the first entry is blue, the rest in red.\n",
    "colors = ['b', 'r', 'r', 'r', 'r']\n",
    "\n",
    "fig, ax = plt.subplots()\n",
    "ax.set_axis_off()\n",
    "country_3857.plot(ax=ax, color='grey', edgecolor='black')\n",
    "gpd.plotting.plot_point_collection(ax, country_megacities_top5_3857['geometry'], color=colors, markersize=50)"
   ]
  },
  {
   "cell_type": "code",
   "execution_count": 124,
   "metadata": {},
   "outputs": [
    {
     "data": {
      "text/plain": [
       "<matplotlib.collections.PathCollection at 0x7fe2fc348e48>"
      ]
     },
     "execution_count": 124,
     "metadata": {},
     "output_type": "execute_result"
    },
    {
     "data": {
      "image/png": "[encoded data removed]",
      "text/plain": [
       "<Figure size 432x288 with 1 Axes>"
      ]
     },
     "metadata": {
      "needs_background": "light"
     },
     "output_type": "display_data"
    }
   ],
   "source": [
    "# Overlay with different markersizes corresponding to the population sizes.\n",
    "def get_markersizes(dataseries, min_markersize, max_markersize):\n",
    "    min_data = dataseries.min()\n",
    "    max_data = dataseries.max()\n",
    "    return [(v - min_data) / (max_data - min_data) * (max_markersize - min_markersize) + min_markersize for v in dataseries]\n",
    "\n",
    "markersizes = get_markersizes(country_megacities_top5_3857['POP_MAX'], 40, 400)\n",
    "\n",
    "fig, ax = plt.subplots()\n",
    "ax.set_axis_off()\n",
    "country_3857.plot(ax=ax, color='grey', edgecolor='black')\n",
    "gpd.plotting.plot_point_collection(ax, country_megacities_top5_3857['geometry'], color='red', markersize=markersizes)"
   ]
  },
  {
   "cell_type": "code",
   "execution_count": null,
   "metadata": {},
   "outputs": [],
   "source": []
  }
 ],
 "metadata": {
  "kernelspec": {
   "display_name": "playground",
   "language": "python",
   "name": "playground"
  },
  "language_info": {
   "codemirror_mode": {
    "name": "ipython",
    "version": 3
   },
   "file_extension": ".py",
   "mimetype": "text/x-python",
   "name": "python",
   "nbconvert_exporter": "python",
   "pygments_lexer": "ipython3",
   "version": "3.7.3"
  }
 },
 "nbformat": 4,
 "nbformat_minor": 2
}
