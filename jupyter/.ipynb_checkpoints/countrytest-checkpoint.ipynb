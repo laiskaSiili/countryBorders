{
 "cells": [
  {
   "cell_type": "markdown",
   "metadata": {},
   "source": [
    "# Country visualization test\n",
    "\n",
    "### Installation\n",
    "1. Create virtual environment from requirements.txt\n",
    "2. Add kernel to jupyter notebook using *ipython kernel install --user --name=YOUR_VIRTUAL_ENV_NAME*"
   ]
  },
  {
   "cell_type": "code",
   "execution_count": 1,
   "metadata": {},
   "outputs": [],
   "source": [
    "# Hidden depedency of geopandas: descartes\n",
    "import geopandas as gpd\n",
    "import matplotlib.pyplot as plt"
   ]
  },
  {
   "cell_type": "markdown",
   "metadata": {},
   "source": [
    "## Datasets\n",
    "Datasets are from [naturalearthdata](https://www.naturalearthdata.com/downloads/10m-cultural-vectors/) with public license, meaning they are free to use for everybody. For countries the dataset **Admin 0 – Countries** is used, for the populated places, the dtaaset **Populated Places** is used."
   ]
  },
  {
   "cell_type": "code",
   "execution_count": 2,
   "metadata": {},
   "outputs": [
    {
     "name": "stdout",
     "output_type": "stream",
     "text": [
      "Data CRS is epsg:4326\n"
     ]
    },
    {
     "data": {
      "text/html": [
       "<div>\n",
       "<style scoped>\n",
       "    .dataframe tbody tr th:only-of-type {\n",
       "        vertical-align: middle;\n",
       "    }\n",
       "\n",
       "    .dataframe tbody tr th {\n",
       "        vertical-align: top;\n",
       "    }\n",
       "\n",
       "    .dataframe thead th {\n",
       "        text-align: right;\n",
       "    }\n",
       "</style>\n",
       "<table border=\"1\" class=\"dataframe\">\n",
       "  <thead>\n",
       "    <tr style=\"text-align: right;\">\n",
       "      <th></th>\n",
       "      <th>featurecla</th>\n",
       "      <th>scalerank</th>\n",
       "      <th>LABELRANK</th>\n",
       "      <th>SOVEREIGNT</th>\n",
       "      <th>SOV_A3</th>\n",
       "      <th>ADM0_DIF</th>\n",
       "      <th>LEVEL</th>\n",
       "      <th>TYPE</th>\n",
       "      <th>ADMIN</th>\n",
       "      <th>ADM0_A3</th>\n",
       "      <th>...</th>\n",
       "      <th>NAME_KO</th>\n",
       "      <th>NAME_NL</th>\n",
       "      <th>NAME_PL</th>\n",
       "      <th>NAME_PT</th>\n",
       "      <th>NAME_RU</th>\n",
       "      <th>NAME_SV</th>\n",
       "      <th>NAME_TR</th>\n",
       "      <th>NAME_VI</th>\n",
       "      <th>NAME_ZH</th>\n",
       "      <th>geometry</th>\n",
       "    </tr>\n",
       "  </thead>\n",
       "  <tbody>\n",
       "    <tr>\n",
       "      <th>0</th>\n",
       "      <td>Admin-0 country</td>\n",
       "      <td>1</td>\n",
       "      <td>3</td>\n",
       "      <td>Zimbabwe</td>\n",
       "      <td>ZWE</td>\n",
       "      <td>0</td>\n",
       "      <td>2</td>\n",
       "      <td>Sovereign country</td>\n",
       "      <td>Zimbabwe</td>\n",
       "      <td>ZWE</td>\n",
       "      <td>...</td>\n",
       "      <td>짐바브웨</td>\n",
       "      <td>Zimbabwe</td>\n",
       "      <td>Zimbabwe</td>\n",
       "      <td>Zimbábue</td>\n",
       "      <td>Зимбабве</td>\n",
       "      <td>Zimbabwe</td>\n",
       "      <td>Zimbabve</td>\n",
       "      <td>Zimbabwe</td>\n",
       "      <td>辛巴威</td>\n",
       "      <td>POLYGON ((31.28789062500002 -22.40205078125001...</td>\n",
       "    </tr>\n",
       "    <tr>\n",
       "      <th>1</th>\n",
       "      <td>Admin-0 country</td>\n",
       "      <td>1</td>\n",
       "      <td>3</td>\n",
       "      <td>Zambia</td>\n",
       "      <td>ZMB</td>\n",
       "      <td>0</td>\n",
       "      <td>2</td>\n",
       "      <td>Sovereign country</td>\n",
       "      <td>Zambia</td>\n",
       "      <td>ZMB</td>\n",
       "      <td>...</td>\n",
       "      <td>잠비아</td>\n",
       "      <td>Zambia</td>\n",
       "      <td>Zambia</td>\n",
       "      <td>Zâmbia</td>\n",
       "      <td>Замбия</td>\n",
       "      <td>Zambia</td>\n",
       "      <td>Zambiya</td>\n",
       "      <td>Zambia</td>\n",
       "      <td>赞比亚</td>\n",
       "      <td>POLYGON ((30.39609375000001 -15.64306640625, 3...</td>\n",
       "    </tr>\n",
       "    <tr>\n",
       "      <th>2</th>\n",
       "      <td>Admin-0 country</td>\n",
       "      <td>1</td>\n",
       "      <td>3</td>\n",
       "      <td>Yemen</td>\n",
       "      <td>YEM</td>\n",
       "      <td>0</td>\n",
       "      <td>2</td>\n",
       "      <td>Sovereign country</td>\n",
       "      <td>Yemen</td>\n",
       "      <td>YEM</td>\n",
       "      <td>...</td>\n",
       "      <td>예멘</td>\n",
       "      <td>Jemen</td>\n",
       "      <td>Jemen</td>\n",
       "      <td>Iémen</td>\n",
       "      <td>Йемен</td>\n",
       "      <td>Jemen</td>\n",
       "      <td>Yemen</td>\n",
       "      <td>Yemen</td>\n",
       "      <td>也门</td>\n",
       "      <td>(POLYGON ((53.08564453125001 16.648388671875, ...</td>\n",
       "    </tr>\n",
       "    <tr>\n",
       "      <th>3</th>\n",
       "      <td>Admin-0 country</td>\n",
       "      <td>3</td>\n",
       "      <td>2</td>\n",
       "      <td>Vietnam</td>\n",
       "      <td>VNM</td>\n",
       "      <td>0</td>\n",
       "      <td>2</td>\n",
       "      <td>Sovereign country</td>\n",
       "      <td>Vietnam</td>\n",
       "      <td>VNM</td>\n",
       "      <td>...</td>\n",
       "      <td>베트남</td>\n",
       "      <td>Vietnam</td>\n",
       "      <td>Wietnam</td>\n",
       "      <td>Vietname</td>\n",
       "      <td>Вьетнам</td>\n",
       "      <td>Vietnam</td>\n",
       "      <td>Vietnam</td>\n",
       "      <td>Việt Nam</td>\n",
       "      <td>越南</td>\n",
       "      <td>(POLYGON ((104.06396484375 10.3908203125, 104....</td>\n",
       "    </tr>\n",
       "  </tbody>\n",
       "</table>\n",
       "<p>4 rows × 95 columns</p>\n",
       "</div>"
      ],
      "text/plain": [
       "        featurecla  scalerank  LABELRANK SOVEREIGNT SOV_A3  ADM0_DIF  LEVEL  \\\n",
       "0  Admin-0 country          1          3   Zimbabwe    ZWE         0      2   \n",
       "1  Admin-0 country          1          3     Zambia    ZMB         0      2   \n",
       "2  Admin-0 country          1          3      Yemen    YEM         0      2   \n",
       "3  Admin-0 country          3          2    Vietnam    VNM         0      2   \n",
       "\n",
       "                TYPE     ADMIN ADM0_A3  ...  NAME_KO   NAME_NL   NAME_PL  \\\n",
       "0  Sovereign country  Zimbabwe     ZWE  ...     짐바브웨  Zimbabwe  Zimbabwe   \n",
       "1  Sovereign country    Zambia     ZMB  ...      잠비아    Zambia    Zambia   \n",
       "2  Sovereign country     Yemen     YEM  ...       예멘     Jemen     Jemen   \n",
       "3  Sovereign country   Vietnam     VNM  ...      베트남   Vietnam   Wietnam   \n",
       "\n",
       "    NAME_PT   NAME_RU   NAME_SV   NAME_TR   NAME_VI NAME_ZH  \\\n",
       "0  Zimbábue  Зимбабве  Zimbabwe  Zimbabve  Zimbabwe     辛巴威   \n",
       "1    Zâmbia    Замбия    Zambia   Zambiya    Zambia     赞比亚   \n",
       "2     Iémen     Йемен     Jemen     Yemen     Yemen      也门   \n",
       "3  Vietname   Вьетнам   Vietnam   Vietnam  Việt Nam      越南   \n",
       "\n",
       "                                            geometry  \n",
       "0  POLYGON ((31.28789062500002 -22.40205078125001...  \n",
       "1  POLYGON ((30.39609375000001 -15.64306640625, 3...  \n",
       "2  (POLYGON ((53.08564453125001 16.648388671875, ...  \n",
       "3  (POLYGON ((104.06396484375 10.3908203125, 104....  \n",
       "\n",
       "[4 rows x 95 columns]"
      ]
     },
     "execution_count": 2,
     "metadata": {},
     "output_type": "execute_result"
    },
    {
     "data": {
      "image/png": "[encoded data removed]",
      "text/plain": [
       "<Figure size 432x288 with 1 Axes>"
      ]
     },
     "metadata": {
      "needs_background": "light"
     },
     "output_type": "display_data"
    }
   ],
   "source": [
    "# read countries from shapefile and plot the all\n",
    "all_countries = gpd.read_file('data/ne_50m_admin_0_countries/ne_50m_admin_0_countries.shp')\n",
    "print(f'Data CRS is {all_countries.crs[\"init\"]}')\n",
    "all_countries.plot()\n",
    "all_countries.head(4)"
   ]
  },
  {
   "cell_type": "markdown",
   "metadata": {},
   "source": [
    "## Country visualization\n",
    "The following visualizations show the country selected in the variable *country_name* below. To see all available countries, check the ADMIN column of the *all_countries* dataframe."
   ]
  },
  {
   "cell_type": "code",
   "execution_count": 17,
   "metadata": {},
   "outputs": [],
   "source": [
    "country_name = 'France'\n",
    "show_largest_area_only = True"
   ]
  },
  {
   "cell_type": "code",
   "execution_count": 18,
   "metadata": {
    "scrolled": false
   },
   "outputs": [],
   "source": [
    "# Extract country from dataset and replace geometry column \n",
    "# with largest polygon only if show_largest_area_only is set.\n",
    "country_4326 = all_countries[all_countries['ADMIN'] == country_name].copy()\n",
    "if show_largest_area_only:\n",
    "    try:\n",
    "        max_area = 0\n",
    "        for multipoly in country_4326.geometry:\n",
    "            for poly in multipoly:\n",
    "                if poly.area > max_area:\n",
    "                    largest_poly = poly\n",
    "                    max_area = poly.area\n",
    "        country_4326['geometry'] = largest_poly\n",
    "    except TypeError:\n",
    "        pass"
   ]
  },
  {
   "cell_type": "code",
   "execution_count": 19,
   "metadata": {
    "scrolled": true
   },
   "outputs": [
    {
     "data": {
      "text/plain": [
       "<matplotlib.axes._subplots.AxesSubplot at 0x7ff88b4fd9b0>"
      ]
     },
     "execution_count": 19,
     "metadata": {},
     "output_type": "execute_result"
    },
    {
     "data": {
      "image/png": "[encoded data removed]",
      "text/plain": [
       "<Figure size 432x288 with 1 Axes>"
      ]
     },
     "metadata": {
      "needs_background": "light"
     },
     "output_type": "display_data"
    }
   ],
   "source": [
    "# default plot\n",
    "country_4326.plot()"
   ]
  },
  {
   "cell_type": "code",
   "execution_count": 20,
   "metadata": {},
   "outputs": [
    {
     "data": {
      "text/plain": [
       "<matplotlib.axes._subplots.AxesSubplot at 0x7ff88b765ac8>"
      ]
     },
     "execution_count": 20,
     "metadata": {},
     "output_type": "execute_result"
    },
    {
     "data": {
      "image/png": "[encoded data removed]",
      "text/plain": [
       "<Figure size 432x288 with 1 Axes>"
      ]
     },
     "metadata": {
      "needs_background": "light"
     },
     "output_type": "display_data"
    }
   ],
   "source": [
    "# Plot with custom styles\n",
    "fig, ax = plt.subplots()\n",
    "plt.axis('off')\n",
    "country_4326.plot(ax=ax, color='grey', edgecolor='black')"
   ]
  },
  {
   "cell_type": "code",
   "execution_count": 21,
   "metadata": {},
   "outputs": [
    {
     "data": {
      "text/plain": [
       "<matplotlib.axes._subplots.AxesSubplot at 0x7ff88b765ac8>"
      ]
     },
     "execution_count": 21,
     "metadata": {},
     "output_type": "execute_result"
    },
    {
     "data": {
      "text/plain": [
       "<Figure size 432x288 with 0 Axes>"
      ]
     },
     "metadata": {},
     "output_type": "display_data"
    }
   ],
   "source": [
    "# Reproject data into pseudomercator (3857)\n",
    "country_3857 = country_4326.to_crs(epsg=3857)\n",
    "ax.set_axis_off()\n",
    "country_3857.plot(ax=ax, color='grey', edgecolor='black')"
   ]
  },
  {
   "cell_type": "markdown",
   "metadata": {},
   "source": [
    "## Point overlay\n",
    "The dataset **Populated places** contains a wealth of information about the most populated places worldwide. The dataset also consists of a geometry column holding a point feature for each place. In the following, the data is aggregated to show the top 5 most populated places for the selected country."
   ]
  },
  {
   "cell_type": "code",
   "execution_count": 22,
   "metadata": {},
   "outputs": [
    {
     "data": {
      "text/html": [
       "<div>\n",
       "<style scoped>\n",
       "    .dataframe tbody tr th:only-of-type {\n",
       "        vertical-align: middle;\n",
       "    }\n",
       "\n",
       "    .dataframe tbody tr th {\n",
       "        vertical-align: top;\n",
       "    }\n",
       "\n",
       "    .dataframe thead th {\n",
       "        text-align: right;\n",
       "    }\n",
       "</style>\n",
       "<table border=\"1\" class=\"dataframe\">\n",
       "  <thead>\n",
       "    <tr style=\"text-align: right;\">\n",
       "      <th></th>\n",
       "      <th>SCALERANK</th>\n",
       "      <th>NATSCALE</th>\n",
       "      <th>LABELRANK</th>\n",
       "      <th>FEATURECLA</th>\n",
       "      <th>NAME</th>\n",
       "      <th>NAMEPAR</th>\n",
       "      <th>NAMEALT</th>\n",
       "      <th>DIFFASCII</th>\n",
       "      <th>NAMEASCII</th>\n",
       "      <th>ADM0CAP</th>\n",
       "      <th>...</th>\n",
       "      <th>name_ja</th>\n",
       "      <th>name_ko</th>\n",
       "      <th>name_nl</th>\n",
       "      <th>name_pl</th>\n",
       "      <th>name_sv</th>\n",
       "      <th>name_tr</th>\n",
       "      <th>name_vi</th>\n",
       "      <th>wdid_score</th>\n",
       "      <th>ne_id</th>\n",
       "      <th>geometry</th>\n",
       "    </tr>\n",
       "  </thead>\n",
       "  <tbody>\n",
       "    <tr>\n",
       "      <th>7281</th>\n",
       "      <td>0</td>\n",
       "      <td>600</td>\n",
       "      <td>3</td>\n",
       "      <td>Admin-0 capital</td>\n",
       "      <td>Paris</td>\n",
       "      <td>None</td>\n",
       "      <td>None</td>\n",
       "      <td>0</td>\n",
       "      <td>Paris</td>\n",
       "      <td>1.0</td>\n",
       "      <td>...</td>\n",
       "      <td>パリ</td>\n",
       "      <td>파리</td>\n",
       "      <td>Parijs</td>\n",
       "      <td>Paryż</td>\n",
       "      <td>Paris</td>\n",
       "      <td>Paris</td>\n",
       "      <td>Paris</td>\n",
       "      <td>4</td>\n",
       "      <td>1159151613</td>\n",
       "      <td>POINT (259529.088321752 6252601.467208495)</td>\n",
       "    </tr>\n",
       "    <tr>\n",
       "      <th>6940</th>\n",
       "      <td>3</td>\n",
       "      <td>110</td>\n",
       "      <td>3</td>\n",
       "      <td>Admin-1 region capital</td>\n",
       "      <td>Lyon</td>\n",
       "      <td>None</td>\n",
       "      <td>None</td>\n",
       "      <td>0</td>\n",
       "      <td>Lyon</td>\n",
       "      <td>0.0</td>\n",
       "      <td>...</td>\n",
       "      <td>リヨン</td>\n",
       "      <td>리옹</td>\n",
       "      <td>Lyon</td>\n",
       "      <td>Lyon</td>\n",
       "      <td>Lyon</td>\n",
       "      <td>Lyon</td>\n",
       "      <td>Lyon</td>\n",
       "      <td>4</td>\n",
       "      <td>1159150845</td>\n",
       "      <td>POINT (537459.9210579005 5743879.764532968)</td>\n",
       "    </tr>\n",
       "    <tr>\n",
       "      <th>6581</th>\n",
       "      <td>4</td>\n",
       "      <td>50</td>\n",
       "      <td>3</td>\n",
       "      <td>Admin-1 region capital</td>\n",
       "      <td>Marseille</td>\n",
       "      <td>None</td>\n",
       "      <td>Marseille-Aix-en-Provence</td>\n",
       "      <td>0</td>\n",
       "      <td>Marseille</td>\n",
       "      <td>0.0</td>\n",
       "      <td>...</td>\n",
       "      <td>マルセイユ</td>\n",
       "      <td>마르세유</td>\n",
       "      <td>Marseille</td>\n",
       "      <td>Marsylia</td>\n",
       "      <td>Marseille</td>\n",
       "      <td>Marsilya</td>\n",
       "      <td>Marseille</td>\n",
       "      <td>4</td>\n",
       "      <td>1159150037</td>\n",
       "      <td>POINT (598126.7787396346 5356511.883342922)</td>\n",
       "    </tr>\n",
       "    <tr>\n",
       "      <th>5332</th>\n",
       "      <td>6</td>\n",
       "      <td>30</td>\n",
       "      <td>3</td>\n",
       "      <td>Admin-1 region capital</td>\n",
       "      <td>Lille</td>\n",
       "      <td>None</td>\n",
       "      <td>None</td>\n",
       "      <td>0</td>\n",
       "      <td>Lille</td>\n",
       "      <td>0.0</td>\n",
       "      <td>...</td>\n",
       "      <td>リール</td>\n",
       "      <td>릴</td>\n",
       "      <td>Rijsel</td>\n",
       "      <td>Lille</td>\n",
       "      <td>Lille</td>\n",
       "      <td>Lille</td>\n",
       "      <td>Lille</td>\n",
       "      <td>4</td>\n",
       "      <td>1159147227</td>\n",
       "      <td>POINT (342648.3208879682 6559950.950390219)</td>\n",
       "    </tr>\n",
       "    <tr>\n",
       "      <th>5329</th>\n",
       "      <td>6</td>\n",
       "      <td>30</td>\n",
       "      <td>3</td>\n",
       "      <td>Populated place</td>\n",
       "      <td>Nice</td>\n",
       "      <td>None</td>\n",
       "      <td>Nice-Cannes</td>\n",
       "      <td>0</td>\n",
       "      <td>Nice</td>\n",
       "      <td>0.0</td>\n",
       "      <td>...</td>\n",
       "      <td>ニース</td>\n",
       "      <td>니스</td>\n",
       "      <td>Nice</td>\n",
       "      <td>Nicea</td>\n",
       "      <td>Nice</td>\n",
       "      <td>Nice</td>\n",
       "      <td>Nice</td>\n",
       "      <td>4</td>\n",
       "      <td>1159147221</td>\n",
       "      <td>POINT (808522.1564043373 5421745.610582698)</td>\n",
       "    </tr>\n",
       "  </tbody>\n",
       "</table>\n",
       "<p>5 rows × 120 columns</p>\n",
       "</div>"
      ],
      "text/plain": [
       "      SCALERANK  NATSCALE  LABELRANK              FEATURECLA       NAME  \\\n",
       "7281          0       600          3         Admin-0 capital      Paris   \n",
       "6940          3       110          3  Admin-1 region capital       Lyon   \n",
       "6581          4        50          3  Admin-1 region capital  Marseille   \n",
       "5332          6        30          3  Admin-1 region capital      Lille   \n",
       "5329          6        30          3         Populated place       Nice   \n",
       "\n",
       "     NAMEPAR                    NAMEALT  DIFFASCII  NAMEASCII  ADM0CAP  ...  \\\n",
       "7281    None                       None          0      Paris      1.0  ...   \n",
       "6940    None                       None          0       Lyon      0.0  ...   \n",
       "6581    None  Marseille-Aix-en-Provence          0  Marseille      0.0  ...   \n",
       "5332    None                       None          0      Lille      0.0  ...   \n",
       "5329    None                Nice-Cannes          0       Nice      0.0  ...   \n",
       "\n",
       "     name_ja  name_ko    name_nl   name_pl    name_sv   name_tr    name_vi  \\\n",
       "7281      パリ       파리     Parijs     Paryż      Paris     Paris      Paris   \n",
       "6940     リヨン       리옹       Lyon      Lyon       Lyon      Lyon       Lyon   \n",
       "6581   マルセイユ     마르세유  Marseille  Marsylia  Marseille  Marsilya  Marseille   \n",
       "5332     リール        릴     Rijsel     Lille      Lille     Lille      Lille   \n",
       "5329     ニース       니스       Nice     Nicea       Nice      Nice       Nice   \n",
       "\n",
       "     wdid_score       ne_id                                     geometry  \n",
       "7281          4  1159151613   POINT (259529.088321752 6252601.467208495)  \n",
       "6940          4  1159150845  POINT (537459.9210579005 5743879.764532968)  \n",
       "6581          4  1159150037  POINT (598126.7787396346 5356511.883342922)  \n",
       "5332          4  1159147227  POINT (342648.3208879682 6559950.950390219)  \n",
       "5329          4  1159147221  POINT (808522.1564043373 5421745.610582698)  \n",
       "\n",
       "[5 rows x 120 columns]"
      ]
     },
     "execution_count": 22,
     "metadata": {},
     "output_type": "execute_result"
    }
   ],
   "source": [
    "# Data preparation: Select the 5 most populated places within country_name.\n",
    "pop_places = gpd.read_file('data/ne_10m_populated_places/ne_10m_populated_places.shp')\n",
    "country_megacities_top5_4326 = pop_places[(pop_places['ADM0NAME']==country_name)].sort_values(by=['POP_MAX'], ascending=False).head(5)\n",
    "country_megacities_top5_3857 = country_megacities_top5_4326.to_crs(epsg=3857)\n",
    "country_megacities_top5_3857"
   ]
  },
  {
   "cell_type": "code",
   "execution_count": 24,
   "metadata": {},
   "outputs": [
    {
     "data": {
      "text/plain": [
       "7281     POINT (2.33138946713035 48.86863878981461)\n",
       "6940     POINT (4.828084616879835 45.7719544229401)\n",
       "6581     POINT (5.37306427182989 43.29192492260455)\n",
       "5332    POINT (3.078062237315521 50.65191495355856)\n",
       "5329    POINT (7.263078106472904 43.71696357820531)\n",
       "Name: geometry, dtype: object"
      ]
     },
     "execution_count": 24,
     "metadata": {},
     "output_type": "execute_result"
    }
   ],
   "source": [
    "country_megacities_top5_4326[\"geometry\"]"
   ]
  },
  {
   "cell_type": "code",
   "execution_count": 25,
   "metadata": {},
   "outputs": [
    {
     "data": {
      "text/plain": [
       "<matplotlib.axes._subplots.AxesSubplot at 0x7ff88b502390>"
      ]
     },
     "execution_count": 25,
     "metadata": {},
     "output_type": "execute_result"
    },
    {
     "data": {
      "image/png": "[encoded data removed]",
      "text/plain": [
       "<Figure size 432x288 with 1 Axes>"
      ]
     },
     "metadata": {
      "needs_background": "light"
     },
     "output_type": "display_data"
    }
   ],
   "source": [
    "# Overlay with static attributes\n",
    "fig, ax = plt.subplots()\n",
    "ax.set_axis_off()\n",
    "country_3857.plot(ax=ax, color='grey', edgecolor='black')\n",
    "country_megacities_top5_3857.plot(ax=ax, marker='o', color='red', markersize=50)"
   ]
  },
  {
   "cell_type": "code",
   "execution_count": 121,
   "metadata": {},
   "outputs": [
    {
     "data": {
      "text/plain": [
       "<matplotlib.collections.PathCollection at 0x7ff8877be198>"
      ]
     },
     "execution_count": 121,
     "metadata": {},
     "output_type": "execute_result"
    },
    {
     "data": {
      "image/png": "[encoded data removed]",
      "text/plain": [
       "<Figure size 432x288 with 1 Axes>"
      ]
     },
     "metadata": {
      "needs_background": "light"
     },
     "output_type": "display_data"
    }
   ],
   "source": [
    "# Overlay with different colors based on a simple list, whereby the first entry is blue, the rest in red.\n",
    "colors = ['b', 'r', 'r', 'r', 'r']\n",
    "\n",
    "fig, ax = plt.subplots()\n",
    "ax.set_axis_off()\n",
    "country_3857.plot(ax=ax, color='grey', edgecolor='black')\n",
    "gpd.plotting.plot_point_collection(ax, country_megacities_top5_3857['geometry'], color=colors, markersize=50)"
   ]
  },
  {
   "cell_type": "code",
   "execution_count": 11,
   "metadata": {},
   "outputs": [
    {
     "data": {
      "text/plain": [
       "<matplotlib.collections.PathCollection at 0x7ff88b765b00>"
      ]
     },
     "execution_count": 11,
     "metadata": {},
     "output_type": "execute_result"
    },
    {
     "data": {
      "image/png": "[encoded data removed]",
      "text/plain": [
       "<Figure size 432x288 with 1 Axes>"
      ]
     },
     "metadata": {
      "needs_background": "light"
     },
     "output_type": "display_data"
    }
   ],
   "source": [
    "# Overlay with different markersizes corresponding to the population sizes.\n",
    "def get_markersizes(dataseries, min_markersize, max_markersize):\n",
    "    min_data = dataseries.min()\n",
    "    max_data = dataseries.max()\n",
    "    return [(v - min_data) / (max_data - min_data) * (max_markersize - min_markersize) + min_markersize for v in dataseries]\n",
    "\n",
    "markersizes = get_markersizes(country_megacities_top5_3857['POP_MAX'], 40, 400)\n",
    "\n",
    "fig, ax = plt.subplots()\n",
    "ax.set_axis_off()\n",
    "country_3857.plot(ax=ax, color='grey', edgecolor='black')\n",
    "gpd.plotting.plot_point_collection(ax, country_megacities_top5_3857['geometry'], color='red', markersize=markersizes)"
   ]
  },
  {
   "cell_type": "code",
   "execution_count": 36,
   "metadata": {},
   "outputs": [],
   "source": []
  },
  {
   "cell_type": "code",
   "execution_count": 27,
   "metadata": {},
   "outputs": [
    {
     "ename": "TypeError",
     "evalue": "__init__() got an unexpected keyword argument 'geometry'",
     "output_type": "error",
     "traceback": [
      "\u001b[0;31m---------------------------------------------------------------------------\u001b[0m",
      "\u001b[0;31mTypeError\u001b[0m                                 Traceback (most recent call last)",
      "\u001b[0;32m<ipython-input-27-a93c071676a5>\u001b[0m in \u001b[0;36m<module>\u001b[0;34m\u001b[0m\n\u001b[0;32m----> 1\u001b[0;31m \u001b[0mgpd\u001b[0m\u001b[0;34m.\u001b[0m\u001b[0mGeoSeries\u001b[0m\u001b[0;34m(\u001b[0m\u001b[0mgeometry\u001b[0m\u001b[0;34m=\u001b[0m\u001b[0mgpd\u001b[0m\u001b[0;34m.\u001b[0m\u001b[0mpoints_from_xy\u001b[0m\u001b[0;34m(\u001b[0m\u001b[0mlons\u001b[0m\u001b[0;34m,\u001b[0m \u001b[0mlats\u001b[0m\u001b[0;34m)\u001b[0m\u001b[0;34m)\u001b[0m\u001b[0;34m\u001b[0m\u001b[0;34m\u001b[0m\u001b[0m\n\u001b[0m",
      "\u001b[0;32m~/.local/lib/python3.6/site-packages/geopandas/geoseries.py\u001b[0m in \u001b[0;36m__init__\u001b[0;34m(self, *args, **kwargs)\u001b[0m\n\u001b[1;32m     45\u001b[0m         \u001b[0mcrs\u001b[0m \u001b[0;34m=\u001b[0m \u001b[0mkwargs\u001b[0m\u001b[0;34m.\u001b[0m\u001b[0mpop\u001b[0m\u001b[0;34m(\u001b[0m\u001b[0;34m'crs'\u001b[0m\u001b[0;34m,\u001b[0m \u001b[0;32mNone\u001b[0m\u001b[0;34m)\u001b[0m\u001b[0;34m\u001b[0m\u001b[0;34m\u001b[0m\u001b[0m\n\u001b[1;32m     46\u001b[0m \u001b[0;34m\u001b[0m\u001b[0m\n\u001b[0;32m---> 47\u001b[0;31m         \u001b[0msuper\u001b[0m\u001b[0;34m(\u001b[0m\u001b[0mGeoSeries\u001b[0m\u001b[0;34m,\u001b[0m \u001b[0mself\u001b[0m\u001b[0;34m)\u001b[0m\u001b[0;34m.\u001b[0m\u001b[0m__init__\u001b[0m\u001b[0;34m(\u001b[0m\u001b[0;34m*\u001b[0m\u001b[0margs\u001b[0m\u001b[0;34m,\u001b[0m \u001b[0;34m**\u001b[0m\u001b[0mkwargs\u001b[0m\u001b[0;34m)\u001b[0m\u001b[0;34m\u001b[0m\u001b[0;34m\u001b[0m\u001b[0m\n\u001b[0m\u001b[1;32m     48\u001b[0m         \u001b[0mself\u001b[0m\u001b[0;34m.\u001b[0m\u001b[0mcrs\u001b[0m \u001b[0;34m=\u001b[0m \u001b[0mcrs\u001b[0m\u001b[0;34m\u001b[0m\u001b[0;34m\u001b[0m\u001b[0m\n\u001b[1;32m     49\u001b[0m         \u001b[0mself\u001b[0m\u001b[0;34m.\u001b[0m\u001b[0m_invalidate_sindex\u001b[0m\u001b[0;34m(\u001b[0m\u001b[0;34m)\u001b[0m\u001b[0;34m\u001b[0m\u001b[0;34m\u001b[0m\u001b[0m\n",
      "\u001b[0;31mTypeError\u001b[0m: __init__() got an unexpected keyword argument 'geometry'"
     ]
    }
   ],
   "source": []
  },
  {
   "cell_type": "code",
   "execution_count": 35,
   "metadata": {},
   "outputs": [
    {
     "data": {
      "text/plain": [
       "<matplotlib.axes._subplots.AxesSubplot at 0x7ff88b739048>"
      ]
     },
     "execution_count": 35,
     "metadata": {},
     "output_type": "execute_result"
    },
    {
     "data": {
      "image/png": "[encoded data removed]",
      "text/plain": [
       "<Figure size 432x288 with 1 Axes>"
      ]
     },
     "metadata": {
      "needs_background": "light"
     },
     "output_type": "display_data"
    }
   ],
   "source": [
    "gpd.GeoSeries(gpd.points_from_xy(lats, lons), crs=4326).plot()"
   ]
  },
  {
   "cell_type": "code",
   "execution_count": 115,
   "metadata": {},
   "outputs": [
    {
     "data": {
      "image/png": "[encoded data removed]",
      "text/plain": [
       "<Figure size 432x288 with 1 Axes>"
      ]
     },
     "metadata": {
      "needs_background": "light"
     },
     "output_type": "display_data"
    }
   ],
   "source": [
    "lats = [2.33138946713035, 4.828084616879835, 5.37306427182989, 3.078062237315521, 8.0, 7.263078106472904,]\n",
    "lons = [48.86863878981461, 45.7719544229401, 43.29192492260455, 50.65191495355856, 45.0, 43.71696357820531,]\n",
    "locations_4326 = gpd.GeoSeries(gpd.points_from_xy(lats, lons), crs=4326)\n",
    "\n",
    "fig, ax = plt.subplots()\n",
    "ax.set_axis_off()\n",
    "country_4326.plot(ax=ax, color='grey', edgecolor='black')\n",
    "locations_4326.plot(ax=ax, marker='s', color='red', markersize=200, edgecolor='black', linewidth='2')\n",
    "for xy in [(x, y) for x, y in zip(lats, lons)]:\n",
    "    ax.annotate(1, xy=xy, ha=\"center\", va=\"center\", color=\"black\")\n",
    "plt.show()"
   ]
  },
  {
   "cell_type": "code",
   "execution_count": 116,
   "metadata": {},
   "outputs": [],
   "source": [
    "is_location_in_country_part = locations_4326.intersects(country_4326[\"geometry\"].iloc[0])"
   ]
  },
  {
   "cell_type": "code",
   "execution_count": 117,
   "metadata": {},
   "outputs": [],
   "source": [
    "locations_in_country_part = locations_4326[locations_4326.intersects(country_4326[\"geometry\"].iloc[0])]"
   ]
  },
  {
   "cell_type": "code",
   "execution_count": 120,
   "metadata": {},
   "outputs": [
    {
     "data": {
      "text/plain": [
       "[0, 1, 2, 3, 5]"
      ]
     },
     "execution_count": 120,
     "metadata": {},
     "output_type": "execute_result"
    }
   ],
   "source": [
    "list(locations_in_country_part.index)"
   ]
  },
  {
   "cell_type": "code",
   "execution_count": 119,
   "metadata": {},
   "outputs": [
    {
     "data": {
      "text/plain": [
       "0     True\n",
       "1     True\n",
       "2     True\n",
       "3     True\n",
       "4    False\n",
       "5     True\n",
       "dtype: bool"
      ]
     },
     "execution_count": 119,
     "metadata": {},
     "output_type": "execute_result"
    }
   ],
   "source": [
    "is_location_in_country_part"
   ]
  },
  {
   "cell_type": "code",
   "execution_count": 107,
   "metadata": {
    "scrolled": true
   },
   "outputs": [
    {
     "data": {
      "text/plain": [
       "[(2.33138946713035, 48.86863878981461),\n",
       " (4.828084616879835, 45.7719544229401),\n",
       " (5.37306427182989, 43.29192492260455),\n",
       " (3.078062237315521, 50.65191495355856),\n",
       " (7.263078106472904, 43.71696357820531)]"
      ]
     },
     "execution_count": 107,
     "metadata": {},
     "output_type": "execute_result"
    }
   ],
   "source": [
    "[(location.x, location.y) for location in locations_in_country_part]"
   ]
  },
  {
   "cell_type": "code",
   "execution_count": 72,
   "metadata": {},
   "outputs": [],
   "source": [
    "for xy in [(x, y) for x, y in zip(lats, lons)]:\n",
    "    ax.annotate(\"a\", xy=xy)"
   ]
  },
  {
   "cell_type": "code",
   "execution_count": 67,
   "metadata": {},
   "outputs": [
    {
     "data": {
      "text/plain": [
       "[(2.33138946713035, 48.86863878981461),\n",
       " (4.828084616879835, 45.7719544229401),\n",
       " (5.37306427182989, 43.29192492260455),\n",
       " (3.078062237315521, 50.65191495355856),\n",
       " (7.263078106472904, 43.71696357820531),\n",
       " (8.0, 45.0)]"
      ]
     },
     "execution_count": 67,
     "metadata": {},
     "output_type": "execute_result"
    }
   ],
   "source": [
    "[(x, y) for x, y in zip(lats, lons)]"
   ]
  },
  {
   "cell_type": "code",
   "execution_count": null,
   "metadata": {},
   "outputs": [],
   "source": []
  }
 ],
 "metadata": {
  "kernelspec": {
   "display_name": "Python 3",
   "language": "python",
   "name": "python3"
  },
  "language_info": {
   "codemirror_mode": {
    "name": "ipython",
    "version": 3
   },
   "file_extension": ".py",
   "mimetype": "text/x-python",
   "name": "python",
   "nbconvert_exporter": "python",
   "pygments_lexer": "ipython3",
   "version": "3.6.8"
  }
 },
 "nbformat": 4,
 "nbformat_minor": 2
}
