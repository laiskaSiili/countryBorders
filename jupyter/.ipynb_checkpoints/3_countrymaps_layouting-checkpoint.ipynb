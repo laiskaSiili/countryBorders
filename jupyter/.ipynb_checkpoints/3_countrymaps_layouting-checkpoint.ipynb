{
 "cells": [
  {
   "cell_type": "markdown",
   "metadata": {},
   "source": [
    "# 3_countrymaps_layouting"
   ]
  },
  {
   "cell_type": "markdown",
   "metadata": {},
   "source": [
    "### Summary\n",
    "This notebook allows for real time layouting of the annotated country parts. All changes are saved upon changing the parameters."
   ]
  },
  {
   "cell_type": "code",
   "execution_count": 66,
   "metadata": {},
   "outputs": [],
   "source": [
    "# Hidden depedency of geopandas: descartes\n",
    "%matplotlib inline\n",
    "import matplotlib.pyplot as plt\n",
    "import pickle\n",
    "import ipywidgets as widgets\n",
    "from IPython.display import clear_output, display"
   ]
  },
  {
   "cell_type": "markdown",
   "metadata": {},
   "source": [
    "### Figure size"
   ]
  },
  {
   "cell_type": "code",
   "execution_count": 67,
   "metadata": {},
   "outputs": [],
   "source": [
    "plt.rcParams['figure.figsize'] = [20, 10]"
   ]
  },
  {
   "cell_type": "markdown",
   "metadata": {},
   "source": [
    "# V) Real time layouting"
   ]
  },
  {
   "cell_type": "code",
   "execution_count": 73,
   "metadata": {},
   "outputs": [],
   "source": [
    "skip_single_geometry_countries = True"
   ]
  },
  {
   "cell_type": "code",
   "execution_count": 74,
   "metadata": {},
   "outputs": [],
   "source": [
    "import pickle\n",
    "country_list_layout = pickle.load(open('country_list_layout.p', 'rb'))"
   ]
  },
  {
   "cell_type": "code",
   "execution_count": 75,
   "metadata": {},
   "outputs": [],
   "source": [
    "# global variables\n",
    "index = 0\n",
    "ui = None\n",
    "rows = None\n",
    "cols = None\n",
    "parts_btns = None\n",
    "fig = None\n",
    "nav_hbox = None\n",
    "\n",
    "# Navigation functions\n",
    "def next_clicked(button):\n",
    "    global index\n",
    "    global country_list_layout\n",
    "    while True:\n",
    "        index += 1\n",
    "        if index == len(country_list_layout):\n",
    "            index = 0\n",
    "        if country_list_layout[index]['nr_parts'] > 1 or not skip_single_geometry_countries:\n",
    "            break\n",
    "    clear_output(wait=True)\n",
    "    setup_ui(index)\n",
    "    draw_country(index)\n",
    "    \n",
    "def previous_clicked(button):\n",
    "    global index\n",
    "    global country_list_layout\n",
    "    while True:\n",
    "        index -= 1\n",
    "        if index < 0:\n",
    "            index = len(country_list_layout) - 1\n",
    "        if country_list_layout[index]['nr_parts'] > 1 or not skip_single_geometry_countries:\n",
    "            break\n",
    "    clear_output(wait=True)\n",
    "    setup_ui(index)\n",
    "    draw_country(index)\n",
    "\n",
    "# Navigation buttons\n",
    "goto_next = widgets.Button(\n",
    "    description='Next country',\n",
    "    disabled=False,\n",
    "    button_style='',\n",
    "    tooltip='Next country',\n",
    "    icon=''\n",
    ")\n",
    "goto_previous = widgets.Button(\n",
    "    description='Previous country',\n",
    "    disabled=False,\n",
    "    button_style='',\n",
    "    tooltip='Previous country',\n",
    "    icon=''\n",
    ")\n",
    "\n",
    "# Naviation eventlisteners\n",
    "goto_next.on_click(next_clicked)\n",
    "goto_previous.on_click(previous_clicked)\n",
    "\n",
    "# Navigation layout\n",
    "nav_hbox = widgets.HBox([goto_previous, goto_next])"
   ]
  },
  {
   "cell_type": "code",
   "execution_count": 76,
   "metadata": {},
   "outputs": [],
   "source": [
    "# This function creates all input elements for the country at the index. Navigation buttons are reused.\n",
    "def setup_ui(index):\n",
    "    global country_list_layout\n",
    "    global ui\n",
    "    global nav_hbox\n",
    "    global rows\n",
    "    global cols\n",
    "    global parts_btns\n",
    "    \n",
    "    # Create UI elements\n",
    "    # Total rows and cols inputs\n",
    "    rows = widgets.IntText(\n",
    "        value=country_list_layout[index]['rows'],\n",
    "        description='Rows',\n",
    "        layout=widgets.Layout(width='15%')\n",
    "    )\n",
    "    cols = widgets.IntText(\n",
    "        value=country_list_layout[index]['cols'],\n",
    "        description='Cols',\n",
    "        layout=widgets.Layout(width='15%')\n",
    "    )\n",
    "    # For each country part, create rowroot, colroot, rowspan and colspan.\n",
    "    parts_btns = []\n",
    "    for p in country_list_layout[index]['parts']:\n",
    "        parts_btns.append({\n",
    "            'name': widgets.Label(\n",
    "                value=p['name'],\n",
    "                layout=widgets.Layout(width='15%')\n",
    "            ),\n",
    "            'rowroot':widgets.IntText(\n",
    "                value=p['rowroot'],\n",
    "                description='RRoot',\n",
    "                layout=widgets.Layout(width='15%')\n",
    "            ),\n",
    "            'colroot':widgets.IntText(\n",
    "                value=p['colroot'],\n",
    "                description='CRoot',\n",
    "                layout=widgets.Layout(width='15%')\n",
    "            ),\n",
    "            'rowspan':widgets.IntText(\n",
    "                value=p['rowspan'],\n",
    "                description='RSpan',\n",
    "                layout=widgets.Layout(width='15%')\n",
    "            ),\n",
    "            'colspan':widgets.IntText(\n",
    "                value=p['colspan'],\n",
    "                description='CSpan',\n",
    "                layout=widgets.Layout(width='15%')\n",
    "            ),\n",
    "        })\n",
    "    # Assign UI eventlistener to all inputs\n",
    "    for b in [rows, cols] + [btn for part_btns in parts_btns for btn in part_btns.values()]:\n",
    "        b.observe(on_value_change, names='value')\n",
    "    # Layout UI elements\n",
    "    rows_cols_hbox = widgets.HBox([rows, cols])\n",
    "    parts_btns_hboxes = []\n",
    "    for p in parts_btns:\n",
    "        parts_btns_hboxes.append(widgets.HBox(tuple(b for b in p.values())))\n",
    "    ui = widgets.VBox(tuple([nav_hbox, rows_cols_hbox, *parts_btns_hboxes]))\n",
    "    # Display UI\n",
    "    display(ui)\n",
    "\n",
    "# This function draws the country at the index using the parameters from the country list.\n",
    "def draw_country(index):\n",
    "    global country_list_layout\n",
    "    rows = country_list_layout[index]['rows']\n",
    "    cols = country_list_layout[index]['cols']\n",
    "    for p in country_list_layout[index]['parts']:\n",
    "        ax = plt.subplot2grid(\n",
    "            shape=(rows, cols), \n",
    "            loc=(p['rowroot'], p['colroot']),\n",
    "            colspan=p['colspan'],\n",
    "            rowspan=p['rowspan']\n",
    "        )\n",
    "        p['geometry'].plot(ax=ax, facecolor='lightgray', edgecolor='gray')\n",
    "        plt.axis('equal')\n",
    "        ax.set_title(p['name'])\n",
    "        ax.set_axis_off()\n",
    "    plt.show();\n",
    "\n",
    "# This function gets called each time a UI element is clicked (except for nav buttons).\n",
    "# Updates and pickles list, sets up UI, draws country.\n",
    "def on_value_change(change):\n",
    "    global country_list_layout\n",
    "    global index\n",
    "    global rows\n",
    "    global cols\n",
    "    global parts_btns\n",
    "    clear_output(wait=True)\n",
    "    country_list_layout[index]['rows'] = rows.value\n",
    "    country_list_layout[index]['cols'] = cols.value\n",
    "    for i, part in enumerate(country_list_layout[index]['parts']):\n",
    "        country_list_layout[index]['parts'][i]['rowroot'] = parts_btns[i]['rowroot'].value\n",
    "        country_list_layout[index]['parts'][i]['colroot'] = parts_btns[i]['colroot'].value\n",
    "        country_list_layout[index]['parts'][i]['rowspan'] = parts_btns[i]['rowspan'].value\n",
    "        country_list_layout[index]['parts'][i]['colspan'] = parts_btns[i]['colspan'].value\n",
    "    setup_ui(index)\n",
    "    try:\n",
    "        draw_country(index)\n",
    "        pickle.dump(country_list_layout, open('country_list_layout.p', 'wb'))\n",
    "    except:\n",
    "        pass"
   ]
  },
  {
   "cell_type": "markdown",
   "metadata": {},
   "source": [
    "### Entry point"
   ]
  },
  {
   "cell_type": "code",
   "execution_count": 77,
   "metadata": {},
   "outputs": [
    {
     "data": {
      "application/vnd.jupyter.widget-view+json": {
       "model_id": "a66c0fb48a044972af39032daca8fbfc",
       "version_major": 2,
       "version_minor": 0
      },
      "text/plain": [
       "VBox(children=(HBox(children=(Button(description='Previous country', style=ButtonStyle(), tooltip='Previous co…"
      ]
     },
     "metadata": {},
     "output_type": "display_data"
    },
    {
     "data": {
      "image/png": "[encoded data removed]",
      "text/plain": [
       "<Figure size 1440x720 with 3 Axes>"
      ]
     },
     "metadata": {
      "needs_background": "light"
     },
     "output_type": "display_data"
    }
   ],
   "source": [
    "next_clicked(None)"
   ]
  },
  {
   "cell_type": "code",
   "execution_count": null,
   "metadata": {},
   "outputs": [],
   "source": []
  }
 ],
 "metadata": {
  "kernelspec": {
   "display_name": "venv",
   "language": "python",
   "name": "venv"
  },
  "language_info": {
   "codemirror_mode": {
    "name": "ipython",
    "version": 3
   },
   "file_extension": ".py",
   "mimetype": "text/x-python",
   "name": "python",
   "nbconvert_exporter": "python",
   "pygments_lexer": "ipython3",
   "version": "3.6.8"
  }
 },
 "nbformat": 4,
 "nbformat_minor": 2
}
