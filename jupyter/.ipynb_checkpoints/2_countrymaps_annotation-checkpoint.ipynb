{
 "cells": [
  {
   "cell_type": "markdown",
   "metadata": {},
   "source": [
    "# Country maps annotation"
   ]
  },
  {
   "cell_type": "markdown",
   "metadata": {},
   "source": [
    "## Summary\n",
    "The resulting list of geometry group is visualized in a ipyleaflet map, which allows to label the groups. The list is continuously saved as a pickle object, therefore saving any changes made to it."
   ]
  },
  {
   "cell_type": "code",
   "execution_count": 22,
   "metadata": {},
   "outputs": [],
   "source": [
    "# Hidden depedency of geopandas: descartes\n",
    "import pickle\n",
    "from ipyleaflet import *\n",
    "import ipywidgets as widgets"
   ]
  },
  {
   "cell_type": "markdown",
   "metadata": {},
   "source": [
    "## Annotation of country parts\n",
    "The following two cells intiialize an ipyleaflet map, that interactively lets you annotate the country parts. use the following controls:\n",
    "- Zoom via slider OR **mouse wheel**.\n",
    "- Click the **Next** and **Previous** buttons to jump from country part to country part.\n",
    "- The **Country** textfield shows you to what country the current country prt belongt to. It is not editable.\n",
    "- Enter a fitting name (e.g. Alaska, Azores) for the country part into the textfield **Name** in the upper right.\n",
    "- **Note:** Each time you navigate from one place to another, your changes are automatically saved in memory as well as a pickle object of the list."
   ]
  },
  {
   "cell_type": "code",
   "execution_count": 23,
   "metadata": {},
   "outputs": [],
   "source": [
    "skip_single_geometry_countries = False"
   ]
  },
  {
   "cell_type": "code",
   "execution_count": 24,
   "metadata": {},
   "outputs": [],
   "source": [
    "country_list = pickle.load(open('country_list.p', 'rb'))"
   ]
  },
  {
   "cell_type": "code",
   "execution_count": 25,
   "metadata": {},
   "outputs": [],
   "source": [
    "m = Map(center=(0,0), zoom=3, scroll_wheel_zoom=True, zoom_control=False, basemap=basemaps.Esri.WorldStreetMap)\n",
    "marker = Marker(location=(0,0), draggable=False)\n",
    "m.add_layer(marker)\n",
    "\n",
    "polygon = Polygon(\n",
    "    locations=[(0,0)],\n",
    "    color=\"green\",\n",
    "    fill_color=\"green\"\n",
    ")\n",
    "m.add_layer(polygon)\n",
    "\n",
    "zoom_slider = widgets.IntSlider(description='Zoom level:', min=0, max=15, value=3)\n",
    "widgets.jslink((zoom_slider, 'value'), (m, 'zoom'))\n",
    "widget_control_zoom = WidgetControl(widget=zoom_slider, position='topleft')\n",
    "m.add_control(widget_control_zoom)\n",
    "\n",
    "country_text = widgets.Text(\n",
    "    value='',\n",
    "    placeholder='',\n",
    "    description='Country:',\n",
    "    disabled=True,\n",
    "    layout={'width': '500px'}\n",
    ")\n",
    "\n",
    "text_input = widgets.Text(\n",
    "    value='',\n",
    "    placeholder='',\n",
    "    description='Name:',\n",
    "    disabled=False,\n",
    "    layout={'width': '500px'}\n",
    ")\n",
    "\n",
    "goto_next = widgets.Button(\n",
    "    description='Next',\n",
    "    disabled=False,\n",
    "    button_style='',\n",
    "    tooltip='Next geometry',\n",
    "    icon=''\n",
    ")\n",
    "\n",
    "goto_previous = widgets.Button(\n",
    "    description='Previous',\n",
    "    disabled=False,\n",
    "    button_style='',\n",
    "    tooltip='Prevous geometry',\n",
    "    icon=''\n",
    ")"
   ]
  },
  {
   "cell_type": "code",
   "execution_count": 26,
   "metadata": {
    "scrolled": true
   },
   "outputs": [],
   "source": [
    "index = -1\n",
    "starting_index = True\n",
    "\n",
    "def goto_index(index):\n",
    "    global polygon\n",
    "    \n",
    "    text_input.value = country_list[index]['name']\n",
    "    country_text.value = country_list[index]['country']\n",
    "    centroid = country_list[index]['geometry'].centroid.iloc[0]\n",
    "    center = (centroid.y, centroid.x)\n",
    "    \n",
    "    locations = []\n",
    "    if country_list[index]['geometry'].iloc[0].geom_type == 'Polygon':\n",
    "        poly = country_list[index]['geometry'].iloc[0]\n",
    "        locations = [(y,x) for y,x in zip(poly.exterior.coords.xy[1], poly.exterior.coords.xy[0])]\n",
    "    if country_list[index]['geometry'].iloc[0].geom_type == 'MultiPolygon':\n",
    "        for poly in country_list[index]['geometry'].iloc[0]:\n",
    "            locations.append([(y,x) for y,x in zip(poly.exterior.coords.xy[1], poly.exterior.coords.xy[0])])\n",
    "    m.remove_layer(polygon)\n",
    "    polygon = Polygon(\n",
    "        locations=locations,\n",
    "        color=\"red\",\n",
    "        fill_color=\"red\"\n",
    "    )\n",
    "    m.add_layer(polygon)\n",
    "    m.center = center\n",
    "    marker.location = center\n",
    "    \n",
    "def next_clicked(button):\n",
    "    global index\n",
    "    global starting_index\n",
    "    if not starting_index:  # workaround to avoid setting the text of the starting index to empty\n",
    "        country_list[index]['name'] = text_input.value\n",
    "        pickle.dump(country_list, open('country_list.p', 'wb'))\n",
    "    else:\n",
    "        starting_index = False\n",
    "    while True:\n",
    "        index += 1\n",
    "        if index == len(country_list):\n",
    "            index = 0\n",
    "        if country_list[index]['nr_parts'] > 1 or not skip_single_geometry_countries:\n",
    "            break\n",
    "    goto_index(index)\n",
    "    \n",
    "def previous_clicked(button):\n",
    "    global index\n",
    "    country_list[index]['name'] = text_input.value\n",
    "    pickle.dump(country_list, open('country_list.p', 'wb'))\n",
    "    while True:\n",
    "        index -= 1\n",
    "        if index < 0:\n",
    "            index = len(country_list) - 1\n",
    "        if country_list[index]['nr_parts'] > 1 or not skip_single_geometry_countries:\n",
    "            break\n",
    "    goto_index(index)\n",
    "    \n",
    "goto_next.on_click(next_clicked)\n",
    "goto_previous.on_click(previous_clicked)\n",
    "\n",
    "widget_control_country = WidgetControl(widget=country_text, position='topright')\n",
    "m.add_control(widget_control_country)\n",
    "widget_control_input = WidgetControl(widget=text_input, position='topright')\n",
    "m.add_control(widget_control_input)\n",
    "widget_control_next = WidgetControl(widget=goto_next, position='bottomright')\n",
    "m.add_control(widget_control_next)\n",
    "widget_control_previous = WidgetControl(widget=goto_previous, position='bottomleft')\n",
    "m.add_control(widget_control_previous)"
   ]
  },
  {
   "cell_type": "markdown",
   "metadata": {},
   "source": [
    "## Interactive map"
   ]
  },
  {
   "cell_type": "code",
   "execution_count": 27,
   "metadata": {},
   "outputs": [
    {
     "data": {
      "application/vnd.jupyter.widget-view+json": {
       "model_id": "ceddcc2638dc40d89ad6d2a2705bf494",
       "version_major": 2,
       "version_minor": 0
      },
      "text/plain": [
       "Map(basemap={'url': 'http://server.arcgisonline.com/ArcGIS/rest/services/World_Street_Map/MapServer/tile/{z}/{…"
      ]
     },
     "metadata": {},
     "output_type": "display_data"
    }
   ],
   "source": [
    "next_clicked(None)\n",
    "m"
   ]
  },
  {
   "cell_type": "markdown",
   "metadata": {},
   "source": [
    "Running the cell above should show a map. If this is not the case, try to reboot your jupyter notebook."
   ]
  }
 ],
 "metadata": {
  "kernelspec": {
   "display_name": "Python 3",
   "language": "python",
   "name": "python3"
  },
  "language_info": {
   "codemirror_mode": {
    "name": "ipython",
    "version": 3
   },
   "file_extension": ".py",
   "mimetype": "text/x-python",
   "name": "python",
   "nbconvert_exporter": "python",
   "pygments_lexer": "ipython3",
   "version": "3.7.3"
  },
  "toc": {
   "base_numbering": 1,
   "nav_menu": {},
   "number_sections": true,
   "sideBar": true,
   "skip_h1_title": false,
   "title_cell": "Table of Contents",
   "title_sidebar": "Contents",
   "toc_cell": false,
   "toc_position": {},
   "toc_section_display": true,
   "toc_window_display": false
  },
  "varInspector": {
   "cols": {
    "lenName": 16,
    "lenType": 16,
    "lenVar": 40
   },
   "kernels_config": {
    "python": {
     "delete_cmd_postfix": "",
     "delete_cmd_prefix": "del ",
     "library": "var_list.py",
     "varRefreshCmd": "print(var_dic_list())"
    },
    "r": {
     "delete_cmd_postfix": ") ",
     "delete_cmd_prefix": "rm(",
     "library": "var_list.r",
     "varRefreshCmd": "cat(var_dic_list()) "
    }
   },
   "types_to_exclude": [
    "module",
    "function",
    "builtin_function_or_method",
    "instance",
    "_Feature"
   ],
   "window_display": false
  }
 },
 "nbformat": 4,
 "nbformat_minor": 2
}
