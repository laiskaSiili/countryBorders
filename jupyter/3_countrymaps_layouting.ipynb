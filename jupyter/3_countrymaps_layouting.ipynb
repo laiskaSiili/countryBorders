{
 "cells": [
  {
   "cell_type": "markdown",
   "metadata": {},
   "source": [
    "## Imports"
   ]
  },
  {
   "cell_type": "code",
   "execution_count": 3,
   "metadata": {},
   "outputs": [],
   "source": [
    "# Hidden depedency of geopandas: descartes\n",
    "%matplotlib inline\n",
    "import matplotlib.pyplot as plt\n",
    "from matplotlib.ticker import NullFormatter\n",
    "import pickle\n",
    "import ipywidgets as widgets\n",
    "from IPython.display import clear_output, display"
   ]
  },
  {
   "cell_type": "markdown",
   "metadata": {},
   "source": [
    "# Data preparation for layout"
   ]
  },
  {
   "cell_type": "markdown",
   "metadata": {},
   "source": [
    "## Layout dictionary"
   ]
  },
  {
   "cell_type": "code",
   "execution_count": 2,
   "metadata": {},
   "outputs": [],
   "source": [
    "country_list = pickle.load(open('country_list.p', 'rb'))"
   ]
  },
  {
   "cell_type": "code",
   "execution_count": 3,
   "metadata": {},
   "outputs": [],
   "source": [
    "country_dict = {}\n",
    "for country in country_list:\n",
    "    iso_code = country['ISO']\n",
    "    if iso_code not in country_dict:\n",
    "        country_dict[iso_code] = {\n",
    "            'name': country['name'],\n",
    "            'ISO': iso_code,\n",
    "            'nr_parts': country['nr_parts'],\n",
    "            'rows': 1,\n",
    "            'cols': 1,\n",
    "            'parts': [],\n",
    "        }\n",
    "    colroot = len(country_dict[iso_code]['parts'])\n",
    "    country_dict[iso_code]['cols'] = colroot + 1\n",
    "    country_dict[iso_code]['parts'].append({\n",
    "        'name': country['name'],\n",
    "        'main': country['main'],\n",
    "        'geometry': country['geometry'],\n",
    "        'rowroot': 0,\n",
    "        'colroot': colroot,\n",
    "        'rowspan': 1,\n",
    "        'colspan': 1,\n",
    "    })\n",
    "pickle.dump(country_dict, open('country_dict.p', 'wb'))"
   ]
  },
  {
   "cell_type": "markdown",
   "metadata": {},
   "source": [
    "## Manual Fixes"
   ]
  },
  {
   "cell_type": "code",
   "execution_count": 4,
   "metadata": {},
   "outputs": [],
   "source": [
    "# Australia\n",
    "try:\n",
    "    country_dict['AUS']['parts'] = [country_dict['AUS']['parts'][0]]  # ignore small far away islands\n",
    "    country_dict['AUS']['nr_parts'] = 1\n",
    "    country_dict['AUS']['cols'] = 1\n",
    "except KeyError:\n",
    "    pass\n",
    "\n",
    "# Chile\n",
    "try:\n",
    "    country_dict['CHL']['parts'] = country_dict['CHL']['parts'][:1]  # ignore small far away islands\n",
    "    country_dict['CHL']['nr_parts'] = 1\n",
    "    country_dict['CHL']['cols'] = 1\n",
    "except KeyError:\n",
    "    pass\n",
    "\n",
    "# Costa Rica\n",
    "try:\n",
    "    country_dict['CRI']['parts'] = country_dict['CRI']['parts'][:1]  # ignore small far away islands\n",
    "    country_dict['CRI']['nr_parts'] = 1\n",
    "    country_dict['CRI']['cols'] = 1\n",
    "except KeyError:\n",
    "    pass\n",
    "\n",
    "# France\n",
    "try:\n",
    "    parts_to_keep = {\n",
    "        0,  # Mainland\n",
    "        1,  # French Guinea\n",
    "        2,  # New Caledonia\n",
    "        6,  # Reunion Island\n",
    "    }\n",
    "    country_dict['FRA']['parts'] = [part for i, part in enumerate(country_dict['FRA']['parts']) if i in parts_to_keep]  # ignore small islands\n",
    "    country_dict['FRA']['nr_parts'] = len(parts_to_keep)\n",
    "    country_dict['FRA']['cols'] = len(parts_to_keep)\n",
    "    colroot = 0\n",
    "    for i in range(len(country_dict['FRA']['parts'])):\n",
    "        country_dict['FRA']['parts'][i]['colroot'] = i\n",
    "        i += 1\n",
    "except KeyError:\n",
    "    pass\n",
    "\n",
    "# Mauritius\n",
    "try:\n",
    "    country_dict['MUS']['parts'] = country_dict['MUS']['parts'][:1]  # ignore far away islands\n",
    "    country_dict['MUS']['nr_parts'] = 1\n",
    "    country_dict['MUS']['cols'] = 1\n",
    "except KeyError:\n",
    "    pass\n",
    "\n",
    "# New Zealand\n",
    "try:\n",
    "    country_dict['NZL']['parts'] = country_dict['NZL']['parts'][:1]  # ignore Cook Islands and Raoul Island\n",
    "    country_dict['NZL']['nr_parts'] = 1\n",
    "    country_dict['NZL']['cols'] = 1\n",
    "except KeyError:\n",
    "    pass\n",
    "\n",
    "# Norway\n",
    "try:\n",
    "    country_dict['NOR']['parts'] = country_dict['NOR']['parts'][:1]  # ignore everything besides main part\n",
    "    country_dict['NOR']['nr_parts'] = 1\n",
    "    country_dict['NOR']['cols'] = 1\n",
    "except KeyError:\n",
    "    pass\n",
    "\n",
    "# Portugal\n",
    "try:\n",
    "    country_dict['PRT']['parts'] = country_dict['PRT']['parts'][:-1]  # ignore Savage Islands\n",
    "    country_dict['PRT']['nr_parts'] = 3\n",
    "    country_dict['PRT']['cols'] = 3\n",
    "except KeyError:\n",
    "    pass\n",
    "\n",
    "# Seychelles\n",
    "try:\n",
    "    country_dict['SYC']['parts'] = country_dict['SYC']['parts'][:1]  # ignore small islands\n",
    "    country_dict['SYC']['nr_parts'] = 1\n",
    "    country_dict['SYC']['cols'] = 1\n",
    "except KeyError:\n",
    "    pass\n",
    "\n",
    "# South Africa\n",
    "try:\n",
    "    country_dict['ZAF']['parts'] = country_dict['ZAF']['parts'][:1]  # ignore small islands\n",
    "    country_dict['ZAF']['nr_parts'] = 1\n",
    "    country_dict['ZAF']['cols'] = 1\n",
    "except KeyError:\n",
    "    pass\n",
    "\n",
    "# United States\n",
    "try:\n",
    "    country_dict['USA']['parts'] = country_dict['USA']['parts'][:4]  # ignore small islands\n",
    "    country_dict['USA']['nr_parts'] = 4\n",
    "    country_dict['USA']['cols'] = 4\n",
    "except KeyError:\n",
    "    pass\n",
    "\n",
    "# United Kingdom\n",
    "try:\n",
    "    parts_to_keep = {\n",
    "        0,  # Mainland\n",
    "        1,  # Falkland Islands\n",
    "        6,  # Cayman Islands\n",
    "        7,  # Bermuda\n",
    "    }\n",
    "    country_dict['GBR']['parts'] = [part for i, part in enumerate(country_dict['GBR']['parts']) if i in parts_to_keep]  # ignore small islands\n",
    "    country_dict['GBR']['nr_parts'] = len(parts_to_keep)\n",
    "    country_dict['GBR']['cols'] = len(parts_to_keep)\n",
    "    for i in range(len(parts_to_keep)):\n",
    "        country_dict['GBR']['parts'][i]['colroot'] = i\n",
    "        i += 1\n",
    "except KeyError:\n",
    "    pass\n",
    "\n",
    "pickle.dump(country_dict, open('country_dict.p', 'wb'))"
   ]
  },
  {
   "cell_type": "markdown",
   "metadata": {},
   "source": [
    "# Country maps layouting"
   ]
  },
  {
   "cell_type": "markdown",
   "metadata": {},
   "source": [
    "## Summary & Parameters & Data\n",
    "This notebook allows for real time layouting of the annotated country parts. All changes are saved upon changing the parameters."
   ]
  },
  {
   "cell_type": "code",
   "execution_count": 20,
   "metadata": {},
   "outputs": [],
   "source": [
    "country_dict[\"USA\"]['parts'][3]['name'] = 'Puerto Rico & US VI'"
   ]
  },
  {
   "cell_type": "code",
   "execution_count": 1,
   "metadata": {},
   "outputs": [],
   "source": [
    "skip_single_geometry_countries = True"
   ]
  },
  {
   "cell_type": "code",
   "execution_count": 4,
   "metadata": {},
   "outputs": [],
   "source": [
    "country_dict = pickle.load(open('country_dict.p', 'rb'))\n",
    "country_list_layout = [v for v in country_dict.values()]\n",
    "pickle.dump(country_list_layout, open('country_list_layout.p', 'wb'))"
   ]
  },
  {
   "cell_type": "markdown",
   "metadata": {},
   "source": [
    "## Layouting widgets"
   ]
  },
  {
   "cell_type": "code",
   "execution_count": 5,
   "metadata": {},
   "outputs": [],
   "source": [
    "# global variables\n",
    "index = 0\n",
    "ui = None\n",
    "rows = None\n",
    "cols = None\n",
    "parts_btns = None\n",
    "nav_hbox = None\n",
    "\n",
    "# Navigation functions\n",
    "def next_clicked(button):\n",
    "    global index\n",
    "    global country_list_layout\n",
    "    while True:\n",
    "        index += 1\n",
    "        if index == len(country_list_layout):\n",
    "            index = 0\n",
    "        if country_list_layout[index]['nr_parts'] > 1 or not skip_single_geometry_countries:\n",
    "            break\n",
    "    clear_output(wait=True)\n",
    "    setup_ui(index)\n",
    "    draw_country(index)\n",
    "    \n",
    "def previous_clicked(button):\n",
    "    global index\n",
    "    global country_list_layout\n",
    "    while True:\n",
    "        index -= 1\n",
    "        if index < 0:\n",
    "            index = len(country_list_layout) - 1\n",
    "        if country_list_layout[index]['nr_parts'] > 1 or not skip_single_geometry_countries:\n",
    "            break\n",
    "    clear_output(wait=True)\n",
    "    setup_ui(index)\n",
    "    draw_country(index)\n",
    "\n",
    "# Navigation buttons\n",
    "goto_next = widgets.Button(\n",
    "    description='Next country',\n",
    "    disabled=False,\n",
    "    button_style='',\n",
    "    tooltip='Next country',\n",
    "    icon=''\n",
    ")\n",
    "goto_previous = widgets.Button(\n",
    "    description='Previous country',\n",
    "    disabled=False,\n",
    "    button_style='',\n",
    "    tooltip='Previous country',\n",
    "    icon=''\n",
    ")\n",
    "\n",
    "# Naviation eventlisteners\n",
    "goto_next.on_click(next_clicked)\n",
    "goto_previous.on_click(previous_clicked)\n",
    "\n",
    "# Navigation layout\n",
    "nav_hbox = widgets.HBox([goto_previous, goto_next])"
   ]
  },
  {
   "cell_type": "code",
   "execution_count": 6,
   "metadata": {},
   "outputs": [],
   "source": [
    "# This function creates all input elements for the country at the index. Navigation buttons are reused.\n",
    "def setup_ui(index):\n",
    "    global country_list_layout\n",
    "    global ui\n",
    "    global nav_hbox\n",
    "    global rows\n",
    "    global cols\n",
    "    global parts_btns\n",
    "    \n",
    "    # Create UI elements\n",
    "    # Total rows and cols inputs\n",
    "    rows = widgets.IntText(\n",
    "        value=country_list_layout[index]['rows'],\n",
    "        description='Rows',\n",
    "        layout=widgets.Layout(width='15%')\n",
    "    )\n",
    "    cols = widgets.IntText(\n",
    "        value=country_list_layout[index]['cols'],\n",
    "        description='Cols',\n",
    "        layout=widgets.Layout(width='15%')\n",
    "    )\n",
    "    # For each country part, create rowroot, colroot, rowspan and colspan.\n",
    "    parts_btns = []\n",
    "    for p in country_list_layout[index]['parts']:\n",
    "        parts_btns.append({\n",
    "            'name': widgets.Label(\n",
    "                value=p['name'],\n",
    "                layout=widgets.Layout(width='15%')\n",
    "            ),\n",
    "            'rowroot':widgets.IntText(\n",
    "                value=p['rowroot'],\n",
    "                description='RRoot',\n",
    "                layout=widgets.Layout(width='15%')\n",
    "            ),\n",
    "            'colroot':widgets.IntText(\n",
    "                value=p['colroot'],\n",
    "                description='CRoot',\n",
    "                layout=widgets.Layout(width='15%')\n",
    "            ),\n",
    "            'rowspan':widgets.IntText(\n",
    "                value=p['rowspan'],\n",
    "                description='RSpan',\n",
    "                layout=widgets.Layout(width='15%')\n",
    "            ),\n",
    "            'colspan':widgets.IntText(\n",
    "                value=p['colspan'],\n",
    "                description='CSpan',\n",
    "                layout=widgets.Layout(width='15%')\n",
    "            ),\n",
    "        })\n",
    "    # Assign UI eventlistener to all inputs\n",
    "    for b in [rows, cols] + [btn for part_btns in parts_btns for btn in part_btns.values()]:\n",
    "        b.observe(on_value_change, names='value')\n",
    "    # Layout UI elements\n",
    "    rows_cols_hbox = widgets.HBox([rows, cols])\n",
    "    parts_btns_hboxes = []\n",
    "    for p in parts_btns:\n",
    "        parts_btns_hboxes.append(widgets.HBox(tuple(b for b in p.values())))\n",
    "    ui = widgets.VBox(tuple([nav_hbox, rows_cols_hbox, *parts_btns_hboxes]))\n",
    "    # Display UI\n",
    "    display(ui)\n",
    "\n",
    "# This function draws the country at the index using the parameters from the country list.\n",
    "def draw_country(index):\n",
    "    fig = plt.figure(figsize=(9.8, 5.25), frameon=True, facecolor=\"#f0f0ed\")\n",
    "    global country_list_layout\n",
    "    rows = country_list_layout[index]['rows']\n",
    "    cols = country_list_layout[index]['cols']\n",
    "    for i, p in enumerate(country_list_layout[index]['parts']):\n",
    "        ax = plt.subplot2grid(\n",
    "            shape=(rows, cols), \n",
    "            loc=(p['rowroot'], p['colroot']),\n",
    "            colspan=p['colspan'],\n",
    "            rowspan=p['rowspan']\n",
    "        )\n",
    "        if country_list_layout[index]['ISO'] == \"KIR\":\n",
    "            edgecolor = \"black\"\n",
    "        else:\n",
    "            edgecolor = None\n",
    "        p['geometry'].plot(ax=ax, facecolor='#c7c7c4', edgecolor=edgecolor)\n",
    "        plt.axis('equal')\n",
    "        if i > 0 or country_list_layout[index]['ISO'] == \"KIR\":\n",
    "            plt.xlabel(p['name'], fontsize=11, labelpad=0)\n",
    "            ax.xaxis.set_major_formatter(NullFormatter())\n",
    "            ax.xaxis.set_ticks_position('none')\n",
    "            ax.yaxis.set_major_formatter(NullFormatter())\n",
    "            ax.yaxis.set_ticks_position('none')\n",
    "        else:\n",
    "            ax.set_axis_off()\n",
    "        ax.set_facecolor(\"#f0f0ed\")\n",
    "        fig.tight_layout()\n",
    "        plt.subplots_adjust(hspace=0.5)\n",
    "    plt.show();\n",
    "\n",
    "# This function gets called each time a UI element is clicked (except for nav buttons).\n",
    "# Updates and pickles list, sets up UI, draws country.\n",
    "def on_value_change(change):\n",
    "    global country_list_layout\n",
    "    global index\n",
    "    global rows\n",
    "    global cols\n",
    "    global parts_btns\n",
    "    clear_output(wait=True)\n",
    "    country_list_layout[index]['rows'] = rows.value\n",
    "    country_list_layout[index]['cols'] = cols.value\n",
    "    for i, part in enumerate(country_list_layout[index]['parts']):\n",
    "        country_list_layout[index]['parts'][i]['rowroot'] = parts_btns[i]['rowroot'].value\n",
    "        country_list_layout[index]['parts'][i]['colroot'] = parts_btns[i]['colroot'].value\n",
    "        country_list_layout[index]['parts'][i]['rowspan'] = parts_btns[i]['rowspan'].value\n",
    "        country_list_layout[index]['parts'][i]['colspan'] = parts_btns[i]['colspan'].value\n",
    "    setup_ui(index)\n",
    "    try:\n",
    "        draw_country(index)\n",
    "        pickle.dump(country_list_layout, open('country_list_layout.p', 'wb'))\n",
    "    except:\n",
    "        pass"
   ]
  },
  {
   "cell_type": "markdown",
   "metadata": {},
   "source": [
    "## Real time layouting"
   ]
  },
  {
   "cell_type": "code",
   "execution_count": 7,
   "metadata": {
    "scrolled": false
   },
   "outputs": [
    {
     "data": {
      "application/vnd.jupyter.widget-view+json": {
       "model_id": "3bebcbcc3b0f43b293ec3b33a015adcb",
       "version_major": 2,
       "version_minor": 0
      },
      "text/plain": [
       "VBox(children=(HBox(children=(Button(description='Previous country', style=ButtonStyle(), tooltip='Previous co…"
      ]
     },
     "metadata": {},
     "output_type": "display_data"
    },
    {
     "data": {
      "image/png": "[encoded data removed]",
      "text/plain": [
       "<Figure size 705.6x378 with 3 Axes>"
      ]
     },
     "metadata": {},
     "output_type": "display_data"
    }
   ],
   "source": [
    "next_clicked(None)"
   ]
  },
  {
   "cell_type": "markdown",
   "metadata": {},
   "source": [
    "## Save your work"
   ]
  },
  {
   "cell_type": "markdown",
   "metadata": {},
   "source": [
    "Once you're done playing around with the widgets above, make sure to run the next cell to save your work."
   ]
  },
  {
   "cell_type": "code",
   "execution_count": 21,
   "metadata": {},
   "outputs": [],
   "source": [
    "for country in country_list_layout:\n",
    "    iso_code = country['ISO']\n",
    "    country_dict[iso_code] = country\n",
    "pickle.dump(country_dict, open('country_dict.p', 'wb'))"
   ]
  }
 ],
 "metadata": {
  "kernelspec": {
   "display_name": "venv",
   "language": "python",
   "name": "venv"
  },
  "language_info": {
   "codemirror_mode": {
    "name": "ipython",
    "version": 3
   },
   "file_extension": ".py",
   "mimetype": "text/x-python",
   "name": "python",
   "nbconvert_exporter": "python",
   "pygments_lexer": "ipython3",
   "version": "3.6.8"
  },
  "toc": {
   "base_numbering": 1,
   "nav_menu": {},
   "number_sections": true,
   "sideBar": true,
   "skip_h1_title": false,
   "title_cell": "Table of Contents",
   "title_sidebar": "Contents",
   "toc_cell": false,
   "toc_position": {},
   "toc_section_display": true,
   "toc_window_display": false
  },
  "varInspector": {
   "cols": {
    "lenName": 16,
    "lenType": 16,
    "lenVar": 40
   },
   "kernels_config": {
    "python": {
     "delete_cmd_postfix": "",
     "delete_cmd_prefix": "del ",
     "library": "var_list.py",
     "varRefreshCmd": "print(var_dic_list())"
    },
    "r": {
     "delete_cmd_postfix": ") ",
     "delete_cmd_prefix": "rm(",
     "library": "var_list.r",
     "varRefreshCmd": "cat(var_dic_list()) "
    }
   },
   "types_to_exclude": [
    "module",
    "function",
    "builtin_function_or_method",
    "instance",
    "_Feature"
   ],
   "window_display": false
  }
 },
 "nbformat": 4,
 "nbformat_minor": 2
}
