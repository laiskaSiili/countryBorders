{
 "cells": [
  {
   "cell_type": "markdown",
   "metadata": {},
   "source": [
    "# Country visualization test\n",
    "\n",
    "### Installation\n",
    "1. Create virtual environment from requirements.txt\n",
    "2. Add kernel to jupyter notebook using *ipython kernel install --user --name=YOUR_VIRTUAL_ENV_NAME*"
   ]
  },
  {
   "cell_type": "code",
   "execution_count": null,
   "metadata": {},
   "outputs": [],
   "source": [
    "# Hidden depedency of geopandas: descartes\n",
    "import geopandas as gpd\n",
    "import matplotlib.pyplot as plt"
   ]
  },
  {
   "cell_type": "markdown",
   "metadata": {},
   "source": [
    "## Datasets\n",
    "Datasets are from [naturalearthdata](https://www.naturalearthdata.com/downloads/10m-cultural-vectors/) with public license, meaning they are free to use for everybody. For countries the dataset **Admin 0 – Countries** is used, for the populated places, the dtaaset **Populated Places** is used."
   ]
  },
  {
   "cell_type": "code",
   "execution_count": null,
   "metadata": {},
   "outputs": [],
   "source": [
    "# read countries from shapefile and plot the all\n",
    "all_countries = gpd.read_file('data/ne_50m_admin_0_countries/ne_50m_admin_0_countries.shp')\n",
    "print(f'Data CRS is {all_countries.crs[\"init\"]}')\n",
    "all_countries.plot()\n",
    "all_countries.head(4)"
   ]
  },
  {
   "cell_type": "markdown",
   "metadata": {},
   "source": [
    "## Country visualization\n",
    "The following visualizations show the country selected in the variable *country_name* below. To see all available countries, check the ADMIN column of the *all_countries* dataframe."
   ]
  },
  {
   "cell_type": "code",
   "execution_count": null,
   "metadata": {},
   "outputs": [],
   "source": [
    "country_name = 'Switzerland'\n",
    "show_largest_area_only = False"
   ]
  },
  {
   "cell_type": "code",
   "execution_count": null,
   "metadata": {
    "scrolled": false
   },
   "outputs": [],
   "source": [
    "# Extract country from dataset and replace geometry column \n",
    "# with largest polygon only if show_largest_area_only is set.\n",
    "country_4326 = all_countries[all_countries['ADMIN'] == country_name].copy()\n",
    "if show_largest_area_only:\n",
    "    try:\n",
    "        max_area = 0\n",
    "        for multipoly in country_4326.geometry:\n",
    "            for poly in multipoly:\n",
    "                if poly.area > max_area:\n",
    "                    largest_poly = poly\n",
    "                    max_area = poly.area\n",
    "        country_4326['geometry'] = largest_poly\n",
    "    except TypeError:\n",
    "        pass"
   ]
  },
  {
   "cell_type": "code",
   "execution_count": null,
   "metadata": {
    "scrolled": true
   },
   "outputs": [],
   "source": [
    "# default plot\n",
    "country_4326.plot()"
   ]
  },
  {
   "cell_type": "code",
   "execution_count": null,
   "metadata": {},
   "outputs": [],
   "source": [
    "# Plot with custom styles\n",
    "fig, ax = plt.subplots()\n",
    "plt.axis('off')\n",
    "country_4326.plot(ax=ax, color='grey', edgecolor='black')"
   ]
  },
  {
   "cell_type": "code",
   "execution_count": null,
   "metadata": {},
   "outputs": [],
   "source": [
    "# Reproject data into pseudomercator (3857)\n",
    "country_3857 = country_4326.to_crs(epsg=3857)\n",
    "ax.set_axis_off()\n",
    "country_3857.plot(ax=ax, color='grey', edgecolor='black')"
   ]
  },
  {
   "cell_type": "markdown",
   "metadata": {},
   "source": [
    "## Point overlay\n",
    "The dataset **Populated places** contains a wealth of information about the most populated places worldwide. The dataset also consists of a geometry column holding a point feature for each place. In the following, the data is aggregated to show the top 5 most populated places for the selected country."
   ]
  },
  {
   "cell_type": "code",
   "execution_count": null,
   "metadata": {},
   "outputs": [],
   "source": [
    "# Data preparation: Select the 5 most populated places within country_name.\n",
    "pop_places = gpd.read_file('data/ne_10m_populated_places/ne_10m_populated_places.shp')\n",
    "country_megacities_top5_4326 = pop_places[(pop_places['ADM0NAME']==country_name)].sort_values(by=['POP_MAX'], ascending=False).head(5)\n",
    "country_megacities_top5_3857 = country_megacities_top5_4326.to_crs(epsg=3857)\n",
    "country_megacities_top5_3857"
   ]
  },
  {
   "cell_type": "code",
   "execution_count": null,
   "metadata": {},
   "outputs": [],
   "source": [
    "# Overlay with static attributes\n",
    "fig, ax = plt.subplots()\n",
    "ax.set_axis_off()\n",
    "country_3857.plot(ax=ax, color='grey', edgecolor='black')\n",
    "country_megacities_top5_3857.plot(ax=ax, marker='o', color='red', markersize=50)"
   ]
  },
  {
   "cell_type": "code",
   "execution_count": null,
   "metadata": {},
   "outputs": [],
   "source": [
    "# Overlay with different colors based on a simple list, whereby the first entry is blue, the rest in red.\n",
    "colors = ['b', 'r', 'r', 'r', 'r']\n",
    "\n",
    "fig, ax = plt.subplots()\n",
    "ax.set_axis_off()\n",
    "country_3857.plot(ax=ax, color='grey', edgecolor='black')\n",
    "gpd.plotting.plot_point_collection(ax, country_megacities_top5_3857['geometry'], color=colors, markersize=50)"
   ]
  },
  {
   "cell_type": "code",
   "execution_count": null,
   "metadata": {},
   "outputs": [],
   "source": [
    "# Overlay with different markersizes corresponding to the population sizes.\n",
    "def get_markersizes(dataseries, min_markersize, max_markersize):\n",
    "    min_data = dataseries.min()\n",
    "    max_data = dataseries.max()\n",
    "    return [(v - min_data) / (max_data - min_data) * (max_markersize - min_markersize) + min_markersize for v in dataseries]\n",
    "\n",
    "markersizes = get_markersizes(country_megacities_top5_3857['POP_MAX'], 40, 400)\n",
    "\n",
    "fig, ax = plt.subplots()\n",
    "ax.set_axis_off()\n",
    "country_3857.plot(ax=ax, color='grey', edgecolor='black')\n",
    "gpd.plotting.plot_point_collection(ax, country_megacities_top5_3857['geometry'], color='red', markersize=markersizes)"
   ]
  },
  {
   "cell_type": "code",
   "execution_count": null,
   "metadata": {},
   "outputs": [],
   "source": []
  }
 ],
 "metadata": {
  "kernelspec": {
   "display_name": "Python3 (country)",
   "language": "python",
   "name": "country"
  },
  "language_info": {
   "codemirror_mode": {
    "name": "ipython",
    "version": 3
   },
   "file_extension": ".py",
   "mimetype": "text/x-python",
   "name": "python",
   "nbconvert_exporter": "python",
   "pygments_lexer": "ipython3",
   "version": "3.7.3"
  }
 },
 "nbformat": 4,
 "nbformat_minor": 2
}
